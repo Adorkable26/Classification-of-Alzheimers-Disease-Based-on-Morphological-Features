{
 "cells": [
  {
   "cell_type": "code",
   "execution_count": 1,
   "id": "00bd1c2c",
   "metadata": {},
   "outputs": [],
   "source": [
    "import numpy as np\n",
    "import csv\n",
    "import pandas as pd\n",
    "from sklearn.model_selection import train_test_split\n",
    "from sklearn.feature_selection import SelectFromModel\n",
    "from sklearn.linear_model import Lasso\n",
    "from sklearn.svm import SVC\n",
    "from sklearn.metrics import classification_report\n",
    "from sklearn.metrics import confusion_matrix\n",
    "from sklearn.metrics import roc_curve\n",
    "import matplotlib.pyplot as plt\n",
    "from sklearn.metrics import auc\n",
    "from sklearn import linear_model\n",
    "from sklearn.linear_model import ElasticNetCV\n",
    "from sklearn.model_selection import RandomizedSearchCV\n",
    "from scipy.stats import uniform\n",
    "from sklearn.metrics.pairwise import sigmoid_kernel, rbf_kernel, polynomial_kernel\n",
    "from sklearn import neighbors\n",
    "from sklearn import tree\n",
    "from sklearn.naive_bayes import GaussianNB\n",
    "from sklearn.ensemble import RandomForestClassifier\n",
    "from sklearn.model_selection import cross_val_score\n",
    "from sklearn.model_selection import cross_val_predict\n"
   ]
  },
  {
   "attachments": {},
   "cell_type": "markdown",
   "id": "b3b68152",
   "metadata": {},
   "source": [
    "## 1. Load Data"
   ]
  },
  {
   "cell_type": "code",
   "execution_count": 2,
   "id": "a96a7552",
   "metadata": {},
   "outputs": [
    {
     "name": "stdout",
     "output_type": "stream",
     "text": [
      "X:(134, 109)\n",
      "y:(134,)\n"
     ]
    }
   ],
   "source": [
    "# Load the features\n",
    "X = np.loadtxt(open(\"AD_MRI_DATA/1-CN_AD/1.3-MRI_Volume.csv\",\"rb\"),delimiter=\",\",skiprows=0)\n",
    "X = np.array(X, dtype=float)\n",
    "print(\"X:\" + str(X.shape))\n",
    "\n",
    "# Load the labels\n",
    "with open('AD_MRI_DATA/1-CN_AD/1-Phenotype.csv','r') as csvfile:\n",
    "    reader = csv.reader(csvfile)\n",
    "    c1 = [row[1]for row in reader]\n",
    "    \n",
    "del c1[0]\n",
    "y = np.array(c1, dtype=int)\n",
    "print(\"y:\" + str(y.shape))\n"
   ]
  },
  {
   "attachments": {},
   "cell_type": "markdown",
   "id": "bac7c9cc",
   "metadata": {},
   "source": [
    "## 2. Lasso with Classifiers"
   ]
  },
  {
   "cell_type": "markdown",
   "id": "ce69ee6b",
   "metadata": {},
   "source": [
    "### 2.1 Lasso"
   ]
  },
  {
   "cell_type": "code",
   "execution_count": 3,
   "id": "5913d083",
   "metadata": {},
   "outputs": [
    {
     "name": "stdout",
     "output_type": "stream",
     "text": [
      "alpha: 19.014840181341103\n",
      "X_selected: (134, 18)\n"
     ]
    }
   ],
   "source": [
    "model = linear_model.LassoCV()\n",
    "#alphas=[1,0.1,0.01,0.005,0.001,0.0001]\n",
    "model.fit(X, y)\n",
    "\n",
    "print(\"alpha: \" + str(model.alpha_))\n",
    "#print(lasso.coef_)\n",
    "3\n",
    "selector = SelectFromModel(estimator = model, prefit = True)\n",
    "selector.get_support()\n",
    "X_selected = selector.transform(X)\n",
    "print(\"X_selected: \" + str(X_selected.shape))"
   ]
  },
  {
   "attachments": {},
   "cell_type": "markdown",
   "id": "12f5fbd0",
   "metadata": {},
   "source": [
    "### 2.2 Classifiers"
   ]
  },
  {
   "cell_type": "code",
   "execution_count": 4,
   "id": "0b16acf2",
   "metadata": {},
   "outputs": [
    {
     "name": "stdout",
     "output_type": "stream",
     "text": [
      "SVM\n",
      "[[34 12]\n",
      " [ 1 87]]\n",
      "              precision    recall  f1-score   support\n",
      "\n",
      "           0       0.88      0.99      0.93        88\n",
      "           1       0.97      0.74      0.84        46\n",
      "\n",
      "    accuracy                           0.90       134\n",
      "   macro avg       0.93      0.86      0.88       134\n",
      "weighted avg       0.91      0.90      0.90       134\n",
      "\n",
      "auc: 0.9801597676107481\n",
      "\n",
      "KNN\n",
      "[[28 18]\n",
      " [ 0 88]]\n",
      "              precision    recall  f1-score   support\n",
      "\n",
      "           0       0.83      1.00      0.91        88\n",
      "           1       1.00      0.61      0.76        46\n",
      "\n",
      "    accuracy                           0.87       134\n",
      "   macro avg       0.92      0.80      0.83       134\n",
      "weighted avg       0.89      0.87      0.86       134\n",
      "\n",
      "auc: 0.9169208424110386\n",
      "\n",
      "Gaussian Naive Bayes\n",
      "[[45  1]\n",
      " [ 4 84]]\n",
      "              precision    recall  f1-score   support\n",
      "\n",
      "           0       0.99      0.95      0.97        88\n",
      "           1       0.92      0.98      0.95        46\n",
      "\n",
      "    accuracy                           0.96       134\n",
      "   macro avg       0.95      0.97      0.96       134\n",
      "weighted avg       0.96      0.96      0.96       134\n",
      "\n",
      "auc: 1.0\n",
      "\n",
      "Decision Tree\n",
      "[[39  7]\n",
      " [ 7 81]]\n",
      "              precision    recall  f1-score   support\n",
      "\n",
      "           0       0.92      0.92      0.92        88\n",
      "           1       0.85      0.85      0.85        46\n",
      "\n",
      "    accuracy                           0.90       134\n",
      "   macro avg       0.88      0.88      0.88       134\n",
      "weighted avg       0.90      0.90      0.90       134\n",
      "\n",
      "auc: 0.9130065359477124\n",
      "\n",
      "Random Forest\n",
      "[[41  5]\n",
      " [ 2 86]]\n",
      "              precision    recall  f1-score   support\n",
      "\n",
      "           0       0.95      0.98      0.96        88\n",
      "           1       0.95      0.89      0.92        46\n",
      "\n",
      "    accuracy                           0.95       134\n",
      "   macro avg       0.95      0.93      0.94       134\n",
      "weighted avg       0.95      0.95      0.95       134\n",
      "\n",
      "auc: 0.9949164851125636\n",
      "\n"
     ]
    }
   ],
   "source": [
    "for i in range(5):\n",
    "    # SVM\n",
    "    if i == 0:\n",
    "        clf = SVC(C=1, random_state=42, probability=True)\n",
    "        print(\"SVM\")\n",
    "        \n",
    "        \n",
    "    # KNN\n",
    "    elif i == 1:\n",
    "        clf = neighbors.KNeighborsClassifier(n_neighbors=2)\n",
    "        print(\"KNN\")\n",
    "        \n",
    "    # Gaussian Naive Bayes\n",
    "    elif i == 2:\n",
    "        clf = GaussianNB()\n",
    "        print(\"Gaussian Naive Bayes\")\n",
    "        \n",
    "    # Decision Tree\n",
    "    elif i == 3:\n",
    "        clf = tree.DecisionTreeClassifier()\n",
    "        print(\"Decision Tree\")\n",
    "        \n",
    "    # Random Forest\n",
    "    else:\n",
    "        clf = RandomForestClassifier()\n",
    "        print(\"Random Forest\")\n",
    "    \n",
    "    # Model Evaluation\n",
    "    y_pred = cross_val_predict(clf, X_selected, y, cv=5)\n",
    "    auc = cross_val_score(clf, X_selected, y, cv=5, scoring=\"roc_auc\")\n",
    "    print(confusion_matrix(y, y_pred,labels=[1,0]))\n",
    "    print(classification_report(y, y_pred))\n",
    "    auc_avg = (auc[0]+auc[1]+auc[2]+auc[3]+auc[4])/5\n",
    "    print(\"auc: \"+str(auc_avg)+\"\\n\")\n"
   ]
  },
  {
   "attachments": {},
   "cell_type": "markdown",
   "id": "4aabd4e1",
   "metadata": {},
   "source": [
    "### 2.3 Multi-core SVM"
   ]
  },
  {
   "cell_type": "code",
   "execution_count": 5,
   "id": "a856386d",
   "metadata": {},
   "outputs": [
    {
     "name": "stdout",
     "output_type": "stream",
     "text": [
      "w1:0.0 w2:0.0 w3:1.0\n",
      "score:0.9629629629629629\n"
     ]
    }
   ],
   "source": [
    "sig_mat = sigmoid_kernel(X_selected)\n",
    "rbf_mat = rbf_kernel(X_selected)\n",
    "poly_mat = polynomial_kernel(X_selected)\n",
    "\n",
    "best_score = 0\n",
    "best_w1 = 0\n",
    "best_w2 = 0\n",
    "best_w3 = 0\n",
    "\n",
    "for i in range(11):\n",
    "    for j in range(11):\n",
    "        w1 = i * 0.1\n",
    "        w2 = j * 0.1\n",
    "        w3 = 1 -w1-w2\n",
    "        if w1<-0.01 or w2<-0.01 or w3<-0.01:\n",
    "            break\n",
    "        train_kernel = w1 * sig_mat + w2 * rbf_mat + w3 * poly_mat\n",
    "        clf = SVC(kernel='precomputed', probability=True)\n",
    "        acc = cross_val_score(clf, train_kernel, y, cv=5, scoring=\"accuracy\")\n",
    "        acc_avg = (acc[0] + acc[1] + acc[2])/3\n",
    "        if acc_avg > best_score:\n",
    "            best_w1 = w1\n",
    "            best_w2 = w2\n",
    "            best_w3 = w3\n",
    "            best_score = acc_avg\n",
    "        \n",
    "print(\"w1:\"+str(best_w1), \"w2:\"+str(best_w2), \"w3:\"+str(best_w3))\n",
    "print(\"score:\"+str(best_score))"
   ]
  },
  {
   "cell_type": "code",
   "execution_count": 6,
   "id": "12b7f1b9",
   "metadata": {},
   "outputs": [
    {
     "name": "stdout",
     "output_type": "stream",
     "text": [
      "[[43  3]\n",
      " [ 3 85]]\n",
      "              precision    recall  f1-score   support\n",
      "\n",
      "           0       0.97      0.97      0.97        88\n",
      "           1       0.93      0.93      0.93        46\n",
      "\n",
      "    accuracy                           0.96       134\n",
      "   macro avg       0.95      0.95      0.95       134\n",
      "weighted avg       0.96      0.96      0.96       134\n",
      "\n",
      "auc: 0.9923602033405954\n",
      "\n"
     ]
    }
   ],
   "source": [
    "train_kernel = best_w1 * sig_mat + best_w2 * rbf_mat + best_w3 * poly_mat\n",
    "y_pred = cross_val_predict(clf, train_kernel, y, cv=5)\n",
    "auc = cross_val_score(clf, train_kernel, y, cv=5, scoring=\"roc_auc\")\n",
    "print(confusion_matrix(y, y_pred,labels=[1,0]))\n",
    "print(classification_report(y, y_pred))\n",
    "auc_avg = (auc[0]+auc[1]+auc[2]+auc[3]+auc[4])/5\n",
    "print(\"auc: \"+str(auc_avg)+\"\\n\")"
   ]
  },
  {
   "attachments": {},
   "cell_type": "markdown",
   "id": "22a4b90c",
   "metadata": {},
   "source": [
    "## 3. ElasticNet with Classifiers"
   ]
  },
  {
   "cell_type": "markdown",
   "id": "82265fbe",
   "metadata": {},
   "source": [
    "### 3.1 ElasticNet"
   ]
  },
  {
   "cell_type": "code",
   "execution_count": 7,
   "id": "4f27f785",
   "metadata": {},
   "outputs": [
    {
     "name": "stdout",
     "output_type": "stream",
     "text": [
      "alpha: 38.02968036268219\n",
      "X_selected: (134, 19)\n"
     ]
    }
   ],
   "source": [
    "model = ElasticNetCV(random_state=0)\n",
    "#,alphas=[1,0.1,0.01,0.005,0.001,0.0001]\n",
    "model.fit(X, y)\n",
    "\n",
    "print(\"alpha: \" + str(model.alpha_))\n",
    "#print(els.coef_)\n",
    "\n",
    "selector = SelectFromModel(estimator = model, prefit = True)\n",
    "selector.get_support()\n",
    "X_selected = selector.transform(X)\n",
    "print(\"X_selected: \" + str(X_selected.shape))"
   ]
  },
  {
   "attachments": {},
   "cell_type": "markdown",
   "id": "1f79f8ac",
   "metadata": {},
   "source": [
    "### 3.2 Classifiers"
   ]
  },
  {
   "cell_type": "code",
   "execution_count": 8,
   "id": "0990e313",
   "metadata": {},
   "outputs": [
    {
     "name": "stdout",
     "output_type": "stream",
     "text": [
      "SVM\n",
      "[[26 20]\n",
      " [ 5 83]]\n",
      "              precision    recall  f1-score   support\n",
      "\n",
      "           0       0.81      0.94      0.87        88\n",
      "           1       0.84      0.57      0.68        46\n",
      "\n",
      "    accuracy                           0.81       134\n",
      "   macro avg       0.82      0.75      0.77       134\n",
      "weighted avg       0.82      0.81      0.80       134\n",
      "\n",
      "auc: 0.9234713144517066\n",
      "\n",
      "KNN\n",
      "[[14 32]\n",
      " [ 5 83]]\n",
      "              precision    recall  f1-score   support\n",
      "\n",
      "           0       0.72      0.94      0.82        88\n",
      "           1       0.74      0.30      0.43        46\n",
      "\n",
      "    accuracy                           0.72       134\n",
      "   macro avg       0.73      0.62      0.62       134\n",
      "weighted avg       0.73      0.72      0.68       134\n",
      "\n",
      "auc: 0.7747785039941902\n",
      "\n",
      "Gaussian Naive Bayes\n",
      "[[46  0]\n",
      " [ 4 84]]\n",
      "              precision    recall  f1-score   support\n",
      "\n",
      "           0       1.00      0.95      0.98        88\n",
      "           1       0.92      1.00      0.96        46\n",
      "\n",
      "    accuracy                           0.97       134\n",
      "   macro avg       0.96      0.98      0.97       134\n",
      "weighted avg       0.97      0.97      0.97       134\n",
      "\n",
      "auc: 1.0\n",
      "\n",
      "Decision Tree\n",
      "[[39  7]\n",
      " [ 7 81]]\n",
      "              precision    recall  f1-score   support\n",
      "\n",
      "           0       0.92      0.92      0.92        88\n",
      "           1       0.85      0.85      0.85        46\n",
      "\n",
      "    accuracy                           0.90       134\n",
      "   macro avg       0.88      0.88      0.88       134\n",
      "weighted avg       0.90      0.90      0.90       134\n",
      "\n",
      "auc: 0.9074509803921569\n",
      "\n",
      "Random Forest\n",
      "[[42  4]\n",
      " [ 1 87]]\n",
      "              precision    recall  f1-score   support\n",
      "\n",
      "           0       0.96      0.99      0.97        88\n",
      "           1       0.98      0.91      0.94        46\n",
      "\n",
      "    accuracy                           0.96       134\n",
      "   macro avg       0.97      0.95      0.96       134\n",
      "weighted avg       0.96      0.96      0.96       134\n",
      "\n",
      "auc: 0.9962962962962962\n",
      "\n"
     ]
    }
   ],
   "source": [
    "for i in range(5):\n",
    "    # SVM\n",
    "    if i == 0:\n",
    "        clf = SVC(C=1, random_state=42, probability=True)\n",
    "        print(\"SVM\")\n",
    "        \n",
    "        \n",
    "    # KNN\n",
    "    elif i == 1:\n",
    "        clf = neighbors.KNeighborsClassifier(n_neighbors=2)\n",
    "        print(\"KNN\")\n",
    "        \n",
    "    # Gaussian Naive Bayes\n",
    "    elif i == 2:\n",
    "        clf = GaussianNB()\n",
    "        print(\"Gaussian Naive Bayes\")\n",
    "        \n",
    "    # Decision Tree\n",
    "    elif i == 3:\n",
    "        clf = tree.DecisionTreeClassifier()\n",
    "        print(\"Decision Tree\")\n",
    "        \n",
    "    # Random Forest\n",
    "    else:\n",
    "        clf = RandomForestClassifier()\n",
    "        print(\"Random Forest\")\n",
    "    \n",
    "    # Model Evaluation\n",
    "    y_pred = cross_val_predict(clf, X_selected, y, cv=5)\n",
    "    auc = cross_val_score(clf, X_selected, y, cv=5, scoring=\"roc_auc\")\n",
    "    print(confusion_matrix(y, y_pred,labels=[1,0]))\n",
    "    print(classification_report(y, y_pred))\n",
    "    auc_avg = (auc[0]+auc[1]+auc[2]+auc[3]+auc[4])/5\n",
    "    print(\"auc: \"+str(auc_avg)+\"\\n\")"
   ]
  },
  {
   "attachments": {},
   "cell_type": "markdown",
   "id": "b759ab23",
   "metadata": {},
   "source": [
    "### 3.3 Multi-core SVM"
   ]
  },
  {
   "cell_type": "code",
   "execution_count": 9,
   "id": "1fee9785",
   "metadata": {},
   "outputs": [
    {
     "name": "stdout",
     "output_type": "stream",
     "text": [
      "w1:0.0 w2:0.0 w3:1.0\n",
      "score:0.9629629629629629\n"
     ]
    }
   ],
   "source": [
    "sig_mat = sigmoid_kernel(X_selected)\n",
    "rbf_mat = rbf_kernel(X_selected)\n",
    "poly_mat = polynomial_kernel(X_selected)\n",
    "\n",
    "best_score = 0\n",
    "best_w1 = 0\n",
    "best_w2 = 0\n",
    "best_w3 = 0\n",
    "\n",
    "for i in range(11):\n",
    "    for j in range(11):\n",
    "        w1 = i * 0.1\n",
    "        w2 = j * 0.1\n",
    "        w3 = 1 -w1-w2\n",
    "        if w1<-0.01 or w2<-0.01 or w3<-0.01:\n",
    "            break\n",
    "        train_kernel = w1 * sig_mat + w2 * rbf_mat + w3 * poly_mat\n",
    "        clf = SVC(kernel='precomputed', probability=True)\n",
    "        acc = cross_val_score(clf, train_kernel, y, cv=5, scoring=\"accuracy\")\n",
    "        acc_avg = (acc[0] + acc[1] + acc[2])/3\n",
    "        if acc_avg > best_score:\n",
    "            best_w1 = w1\n",
    "            best_w2 = w2\n",
    "            best_w3 = w3\n",
    "            best_score = acc_avg\n",
    "        \n",
    "print(\"w1:\"+str(best_w1), \"w2:\"+str(best_w2), \"w3:\"+str(best_w3))\n",
    "print(\"score:\"+str(best_score))"
   ]
  },
  {
   "cell_type": "code",
   "execution_count": 10,
   "id": "56fa9b1d",
   "metadata": {},
   "outputs": [
    {
     "name": "stdout",
     "output_type": "stream",
     "text": [
      "[[41  5]\n",
      " [ 3 85]]\n",
      "              precision    recall  f1-score   support\n",
      "\n",
      "           0       0.94      0.97      0.96        88\n",
      "           1       0.93      0.89      0.91        46\n",
      "\n",
      "    accuracy                           0.94       134\n",
      "   macro avg       0.94      0.93      0.93       134\n",
      "weighted avg       0.94      0.94      0.94       134\n",
      "\n",
      "auc: 0.9922294843863471\n",
      "\n"
     ]
    }
   ],
   "source": [
    "train_kernel = best_w1 * sig_mat + best_w2 * rbf_mat + best_w3 * poly_mat\n",
    "y_pred = cross_val_predict(clf, train_kernel, y, cv=5)\n",
    "auc = cross_val_score(clf, train_kernel, y, cv=5, scoring=\"roc_auc\")\n",
    "print(confusion_matrix(y, y_pred,labels=[1,0]))\n",
    "print(classification_report(y, y_pred))\n",
    "auc_avg = (auc[0]+auc[1]+auc[2]+auc[3]+auc[4])/5\n",
    "print(\"auc: \"+str(auc_avg)+\"\\n\")"
   ]
  }
 ],
 "metadata": {
  "kernelspec": {
   "display_name": "base",
   "language": "python",
   "name": "python3"
  },
  "language_info": {
   "codemirror_mode": {
    "name": "ipython",
    "version": 3
   },
   "file_extension": ".py",
   "mimetype": "text/x-python",
   "name": "python",
   "nbconvert_exporter": "python",
   "pygments_lexer": "ipython3",
   "version": "3.9.13"
  },
  "vscode": {
   "interpreter": {
    "hash": "d35206c1d736b3ed2205db967d5af22e7728d97276bf618abc1666c9ff7db053"
   }
  }
 },
 "nbformat": 4,
 "nbformat_minor": 5
}
