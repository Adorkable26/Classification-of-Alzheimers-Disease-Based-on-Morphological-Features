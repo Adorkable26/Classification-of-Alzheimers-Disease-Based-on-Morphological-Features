{
 "cells": [
  {
   "cell_type": "code",
   "execution_count": 1,
   "id": "00bd1c2c",
   "metadata": {},
   "outputs": [],
   "source": [
    "import numpy as np\n",
    "import csv\n",
    "import pandas as pd\n",
    "from sklearn.model_selection import train_test_split\n",
    "from sklearn.feature_selection import SelectFromModel\n",
    "from sklearn.linear_model import Lasso\n",
    "from sklearn.svm import SVC\n",
    "from sklearn.metrics import classification_report\n",
    "from sklearn.metrics import confusion_matrix\n",
    "from sklearn.metrics import roc_curve\n",
    "import matplotlib.pyplot as plt\n",
    "from sklearn.metrics import auc\n",
    "from sklearn import linear_model\n",
    "from sklearn.linear_model import ElasticNetCV\n",
    "from sklearn.model_selection import RandomizedSearchCV\n",
    "from scipy.stats import uniform\n",
    "from sklearn.metrics.pairwise import sigmoid_kernel, rbf_kernel, polynomial_kernel\n",
    "from sklearn import neighbors\n",
    "from sklearn import tree\n",
    "from sklearn.naive_bayes import GaussianNB\n",
    "from sklearn.ensemble import RandomForestClassifier\n",
    "from sklearn.model_selection import cross_val_score\n",
    "from sklearn.model_selection import cross_val_predict\n"
   ]
  },
  {
   "attachments": {},
   "cell_type": "markdown",
   "id": "b3b68152",
   "metadata": {},
   "source": [
    "## 1. Load Data"
   ]
  },
  {
   "cell_type": "code",
   "execution_count": 2,
   "id": "a96a7552",
   "metadata": {},
   "outputs": [
    {
     "name": "stdout",
     "output_type": "stream",
     "text": [
      "X:(146, 109)\n",
      "y:(146,)\n"
     ]
    }
   ],
   "source": [
    "# Load the features\n",
    "X = np.loadtxt(open(\"AD_MRI_DATA/3-MCI_AD/3.3-MRI_Volume.csv\",\"rb\"),delimiter=\",\",skiprows=0)\n",
    "X = np.array(X, dtype=float)\n",
    "print(\"X:\" + str(X.shape))\n",
    "\n",
    "# Load the labels\n",
    "with open('AD_MRI_DATA/3-MCI_AD/3-Phenotype.csv','r') as csvfile:\n",
    "    reader = csv.reader(csvfile)\n",
    "    c1 = [row[1]for row in reader]\n",
    "    \n",
    "del c1[0]\n",
    "y = np.array(c1, dtype=int)\n",
    "print(\"y:\" + str(y.shape))\n"
   ]
  },
  {
   "attachments": {},
   "cell_type": "markdown",
   "id": "bac7c9cc",
   "metadata": {},
   "source": [
    "## 2. Lasso with Classifiers"
   ]
  },
  {
   "cell_type": "markdown",
   "id": "ce69ee6b",
   "metadata": {},
   "source": [
    "### 2.1 Lasso"
   ]
  },
  {
   "cell_type": "code",
   "execution_count": 3,
   "id": "5913d083",
   "metadata": {},
   "outputs": [
    {
     "name": "stdout",
     "output_type": "stream",
     "text": [
      "alpha: 17.240071307937708\n",
      "X_selected: (146, 16)\n"
     ]
    }
   ],
   "source": [
    "model = linear_model.LassoCV()\n",
    "#alphas=[1,0.1,0.01,0.005,0.001,0.0001]\n",
    "model.fit(X, y)\n",
    "\n",
    "print(\"alpha: \" + str(model.alpha_))\n",
    "#print(lasso.coef_)\n",
    "3\n",
    "selector = SelectFromModel(estimator = model, prefit = True)\n",
    "selector.get_support()\n",
    "X_selected = selector.transform(X)\n",
    "print(\"X_selected: \" + str(X_selected.shape))"
   ]
  },
  {
   "attachments": {},
   "cell_type": "markdown",
   "id": "12f5fbd0",
   "metadata": {},
   "source": [
    "### 2.2 Classifiers"
   ]
  },
  {
   "cell_type": "code",
   "execution_count": 4,
   "id": "0b16acf2",
   "metadata": {},
   "outputs": [
    {
     "name": "stdout",
     "output_type": "stream",
     "text": [
      "SVM\n",
      "[[  8  38]\n",
      " [  0 100]]\n",
      "              precision    recall  f1-score   support\n",
      "\n",
      "           0       0.72      1.00      0.84       100\n",
      "           1       1.00      0.17      0.30        46\n",
      "\n",
      "    accuracy                           0.74       146\n",
      "   macro avg       0.86      0.59      0.57       146\n",
      "weighted avg       0.81      0.74      0.67       146\n",
      "\n",
      "auc: 0.9661111111111111\n",
      "\n",
      "KNN\n",
      "[[25 21]\n",
      " [ 2 98]]\n",
      "              precision    recall  f1-score   support\n",
      "\n",
      "           0       0.82      0.98      0.89       100\n",
      "           1       0.93      0.54      0.68        46\n",
      "\n",
      "    accuracy                           0.84       146\n",
      "   macro avg       0.87      0.76      0.79       146\n",
      "weighted avg       0.86      0.84      0.83       146\n",
      "\n",
      "auc: 0.855111111111111\n",
      "\n",
      "Gaussian Naive Bayes\n",
      "[[35 11]\n",
      " [ 7 93]]\n",
      "              precision    recall  f1-score   support\n",
      "\n",
      "           0       0.89      0.93      0.91       100\n",
      "           1       0.83      0.76      0.80        46\n",
      "\n",
      "    accuracy                           0.88       146\n",
      "   macro avg       0.86      0.85      0.85       146\n",
      "weighted avg       0.88      0.88      0.88       146\n",
      "\n",
      "auc: 0.9445555555555556\n",
      "\n",
      "Decision Tree\n",
      "[[35 11]\n",
      " [14 86]]\n",
      "              precision    recall  f1-score   support\n",
      "\n",
      "           0       0.89      0.86      0.87       100\n",
      "           1       0.71      0.76      0.74        46\n",
      "\n",
      "    accuracy                           0.83       146\n",
      "   macro avg       0.80      0.81      0.80       146\n",
      "weighted avg       0.83      0.83      0.83       146\n",
      "\n",
      "auc: 0.8238888888888889\n",
      "\n",
      "Random Forest\n",
      "[[35 11]\n",
      " [ 3 97]]\n",
      "              precision    recall  f1-score   support\n",
      "\n",
      "           0       0.90      0.97      0.93       100\n",
      "           1       0.92      0.76      0.83        46\n",
      "\n",
      "    accuracy                           0.90       146\n",
      "   macro avg       0.91      0.87      0.88       146\n",
      "weighted avg       0.91      0.90      0.90       146\n",
      "\n",
      "auc: 0.9711111111111113\n",
      "\n"
     ]
    }
   ],
   "source": [
    "for i in range(5):\n",
    "    # SVM\n",
    "    if i == 0:\n",
    "        clf = SVC(C=1, random_state=42, probability=True)\n",
    "        print(\"SVM\")\n",
    "        \n",
    "        \n",
    "    # KNN\n",
    "    elif i == 1:\n",
    "        clf = neighbors.KNeighborsClassifier(n_neighbors=2)\n",
    "        print(\"KNN\")\n",
    "        \n",
    "    # Gaussian Naive Bayes\n",
    "    elif i == 2:\n",
    "        clf = GaussianNB()\n",
    "        print(\"Gaussian Naive Bayes\")\n",
    "        \n",
    "    # Decision Tree\n",
    "    elif i == 3:\n",
    "        clf = tree.DecisionTreeClassifier()\n",
    "        print(\"Decision Tree\")\n",
    "        \n",
    "    # Random Forest\n",
    "    else:\n",
    "        clf = RandomForestClassifier()\n",
    "        print(\"Random Forest\")\n",
    "    \n",
    "    # Model Evaluation\n",
    "    y_pred = cross_val_predict(clf, X_selected, y, cv=5)\n",
    "    auc = cross_val_score(clf, X_selected, y, cv=5, scoring=\"roc_auc\")\n",
    "    print(confusion_matrix(y, y_pred,labels=[1,0]))\n",
    "    print(classification_report(y, y_pred))\n",
    "    auc_avg = (auc[0]+auc[1]+auc[2]+auc[3]+auc[4])/5\n",
    "    print(\"auc: \"+str(auc_avg)+\"\\n\")\n"
   ]
  },
  {
   "attachments": {},
   "cell_type": "markdown",
   "id": "4aabd4e1",
   "metadata": {},
   "source": [
    "### 2.3 Multi-core SVM"
   ]
  },
  {
   "cell_type": "code",
   "execution_count": 5,
   "id": "a856386d",
   "metadata": {},
   "outputs": [
    {
     "name": "stdout",
     "output_type": "stream",
     "text": [
      "w1:0.0 w2:0.0 w3:1.0\n",
      "score:0.9206896551724139\n"
     ]
    }
   ],
   "source": [
    "sig_mat = sigmoid_kernel(X_selected)\n",
    "rbf_mat = rbf_kernel(X_selected)\n",
    "poly_mat = polynomial_kernel(X_selected)\n",
    "\n",
    "best_score = 0\n",
    "best_w1 = 0\n",
    "best_w2 = 0\n",
    "best_w3 = 0\n",
    "\n",
    "for i in range(11):\n",
    "    for j in range(11):\n",
    "        w1 = i * 0.1\n",
    "        w2 = j * 0.1\n",
    "        w3 = 1 -w1-w2\n",
    "        if w1<-0.01 or w2<-0.01 or w3<-0.01:\n",
    "            break\n",
    "        train_kernel = w1 * sig_mat + w2 * rbf_mat + w3 * poly_mat\n",
    "        clf = SVC(kernel='precomputed', probability=True)\n",
    "        acc = cross_val_score(clf, train_kernel, y, cv=5, scoring=\"accuracy\")\n",
    "        acc_avg = (acc[0] + acc[1] + acc[2])/3\n",
    "        if acc_avg > best_score:\n",
    "            best_w1 = w1\n",
    "            best_w2 = w2\n",
    "            best_w3 = w3\n",
    "            best_score = acc_avg\n",
    "        \n",
    "print(\"w1:\"+str(best_w1), \"w2:\"+str(best_w2), \"w3:\"+str(best_w3))\n",
    "print(\"score:\"+str(best_score))"
   ]
  },
  {
   "cell_type": "code",
   "execution_count": 6,
   "id": "12b7f1b9",
   "metadata": {},
   "outputs": [
    {
     "name": "stdout",
     "output_type": "stream",
     "text": [
      "[[41  5]\n",
      " [ 8 92]]\n",
      "              precision    recall  f1-score   support\n",
      "\n",
      "           0       0.95      0.92      0.93       100\n",
      "           1       0.84      0.89      0.86        46\n",
      "\n",
      "    accuracy                           0.91       146\n",
      "   macro avg       0.89      0.91      0.90       146\n",
      "weighted avg       0.91      0.91      0.91       146\n",
      "\n",
      "auc: 0.9758888888888888\n",
      "\n"
     ]
    }
   ],
   "source": [
    "train_kernel = best_w1 * sig_mat + best_w2 * rbf_mat + best_w3 * poly_mat\n",
    "y_pred = cross_val_predict(clf, train_kernel, y, cv=5)\n",
    "auc = cross_val_score(clf, train_kernel, y, cv=5, scoring=\"roc_auc\")\n",
    "print(confusion_matrix(y, y_pred,labels=[1,0]))\n",
    "print(classification_report(y, y_pred))\n",
    "auc_avg = (auc[0]+auc[1]+auc[2]+auc[3]+auc[4])/5\n",
    "print(\"auc: \"+str(auc_avg)+\"\\n\")"
   ]
  },
  {
   "attachments": {},
   "cell_type": "markdown",
   "id": "22a4b90c",
   "metadata": {},
   "source": [
    "## 3. ElasticNet with Classifiers"
   ]
  },
  {
   "cell_type": "markdown",
   "id": "82265fbe",
   "metadata": {},
   "source": [
    "### 3.1 ElasticNet"
   ]
  },
  {
   "cell_type": "code",
   "execution_count": 7,
   "id": "4f27f785",
   "metadata": {},
   "outputs": [
    {
     "name": "stdout",
     "output_type": "stream",
     "text": [
      "alpha: 34.48014261587542\n",
      "X_selected: (146, 18)\n"
     ]
    }
   ],
   "source": [
    "model = ElasticNetCV(random_state=0)\n",
    "#,alphas=[1,0.1,0.01,0.005,0.001,0.0001]\n",
    "model.fit(X, y)\n",
    "\n",
    "print(\"alpha: \" + str(model.alpha_))\n",
    "#print(els.coef_)\n",
    "\n",
    "selector = SelectFromModel(estimator = model, prefit = True)\n",
    "selector.get_support()\n",
    "X_selected = selector.transform(X)\n",
    "print(\"X_selected: \" + str(X_selected.shape))"
   ]
  },
  {
   "attachments": {},
   "cell_type": "markdown",
   "id": "1f79f8ac",
   "metadata": {},
   "source": [
    "### 3.2 Classifiers"
   ]
  },
  {
   "cell_type": "code",
   "execution_count": 8,
   "id": "0990e313",
   "metadata": {},
   "outputs": [
    {
     "name": "stdout",
     "output_type": "stream",
     "text": [
      "SVM\n",
      "[[  0  46]\n",
      " [  0 100]]\n",
      "              precision    recall  f1-score   support\n",
      "\n",
      "           0       0.68      1.00      0.81       100\n",
      "           1       0.00      0.00      0.00        46\n",
      "\n",
      "    accuracy                           0.68       146\n",
      "   macro avg       0.34      0.50      0.41       146\n",
      "weighted avg       0.47      0.68      0.56       146\n",
      "\n",
      "auc: 0.9296666666666666\n",
      "\n",
      "KNN\n",
      "[[ 8 38]\n",
      " [ 6 94]]\n",
      "              precision    recall  f1-score   support\n",
      "\n",
      "           0       0.71      0.94      0.81       100\n",
      "           1       0.57      0.17      0.27        46\n",
      "\n",
      "    accuracy                           0.70       146\n",
      "   macro avg       0.64      0.56      0.54       146\n",
      "weighted avg       0.67      0.70      0.64       146\n",
      "\n",
      "auc: 0.6086666666666667\n",
      "\n",
      "Gaussian Naive Bayes\n",
      "[[34 12]\n",
      " [ 7 93]]\n",
      "              precision    recall  f1-score   support\n",
      "\n",
      "           0       0.89      0.93      0.91       100\n",
      "           1       0.83      0.74      0.78        46\n",
      "\n",
      "    accuracy                           0.87       146\n",
      "   macro avg       0.86      0.83      0.84       146\n",
      "weighted avg       0.87      0.87      0.87       146\n",
      "\n",
      "auc: 0.9401111111111111\n",
      "\n",
      "Decision Tree\n",
      "[[34 12]\n",
      " [15 85]]\n",
      "              precision    recall  f1-score   support\n",
      "\n",
      "           0       0.88      0.85      0.86       100\n",
      "           1       0.69      0.74      0.72        46\n",
      "\n",
      "    accuracy                           0.82       146\n",
      "   macro avg       0.79      0.79      0.79       146\n",
      "weighted avg       0.82      0.82      0.82       146\n",
      "\n",
      "auc: 0.836111111111111\n",
      "\n",
      "Random Forest\n"
     ]
    },
    {
     "name": "stderr",
     "output_type": "stream",
     "text": [
      "/Users/zhengwentao/opt/anaconda3/lib/python3.9/site-packages/sklearn/metrics/_classification.py:1318: UndefinedMetricWarning: Precision and F-score are ill-defined and being set to 0.0 in labels with no predicted samples. Use `zero_division` parameter to control this behavior.\n",
      "  _warn_prf(average, modifier, msg_start, len(result))\n",
      "/Users/zhengwentao/opt/anaconda3/lib/python3.9/site-packages/sklearn/metrics/_classification.py:1318: UndefinedMetricWarning: Precision and F-score are ill-defined and being set to 0.0 in labels with no predicted samples. Use `zero_division` parameter to control this behavior.\n",
      "  _warn_prf(average, modifier, msg_start, len(result))\n",
      "/Users/zhengwentao/opt/anaconda3/lib/python3.9/site-packages/sklearn/metrics/_classification.py:1318: UndefinedMetricWarning: Precision and F-score are ill-defined and being set to 0.0 in labels with no predicted samples. Use `zero_division` parameter to control this behavior.\n",
      "  _warn_prf(average, modifier, msg_start, len(result))\n"
     ]
    },
    {
     "name": "stdout",
     "output_type": "stream",
     "text": [
      "[[35 11]\n",
      " [ 4 96]]\n",
      "              precision    recall  f1-score   support\n",
      "\n",
      "           0       0.90      0.96      0.93       100\n",
      "           1       0.90      0.76      0.82        46\n",
      "\n",
      "    accuracy                           0.90       146\n",
      "   macro avg       0.90      0.86      0.88       146\n",
      "weighted avg       0.90      0.90      0.89       146\n",
      "\n",
      "auc: 0.986\n",
      "\n"
     ]
    }
   ],
   "source": [
    "for i in range(5):\n",
    "    # SVM\n",
    "    if i == 0:\n",
    "        clf = SVC(C=1, random_state=42, probability=True)\n",
    "        print(\"SVM\")\n",
    "        \n",
    "        \n",
    "    # KNN\n",
    "    elif i == 1:\n",
    "        clf = neighbors.KNeighborsClassifier(n_neighbors=2)\n",
    "        print(\"KNN\")\n",
    "        \n",
    "    # Gaussian Naive Bayes\n",
    "    elif i == 2:\n",
    "        clf = GaussianNB()\n",
    "        print(\"Gaussian Naive Bayes\")\n",
    "        \n",
    "    # Decision Tree\n",
    "    elif i == 3:\n",
    "        clf = tree.DecisionTreeClassifier()\n",
    "        print(\"Decision Tree\")\n",
    "        \n",
    "    # Random Forest\n",
    "    else:\n",
    "        clf = RandomForestClassifier()\n",
    "        print(\"Random Forest\")\n",
    "    \n",
    "    # Model Evaluation\n",
    "    y_pred = cross_val_predict(clf, X_selected, y, cv=5)\n",
    "    auc = cross_val_score(clf, X_selected, y, cv=5, scoring=\"roc_auc\")\n",
    "    print(confusion_matrix(y, y_pred,labels=[1,0]))\n",
    "    print(classification_report(y, y_pred))\n",
    "    auc_avg = (auc[0]+auc[1]+auc[2]+auc[3]+auc[4])/5\n",
    "    print(\"auc: \"+str(auc_avg)+\"\\n\")"
   ]
  },
  {
   "attachments": {},
   "cell_type": "markdown",
   "id": "b759ab23",
   "metadata": {},
   "source": [
    "### 3.3 Multi-core SVM"
   ]
  },
  {
   "cell_type": "code",
   "execution_count": 9,
   "id": "1fee9785",
   "metadata": {},
   "outputs": [
    {
     "name": "stdout",
     "output_type": "stream",
     "text": [
      "w1:0.0 w2:0.0 w3:1.0\n",
      "score:0.9091954022988507\n"
     ]
    }
   ],
   "source": [
    "sig_mat = sigmoid_kernel(X_selected)\n",
    "rbf_mat = rbf_kernel(X_selected)\n",
    "poly_mat = polynomial_kernel(X_selected)\n",
    "\n",
    "best_score = 0\n",
    "best_w1 = 0\n",
    "best_w2 = 0\n",
    "best_w3 = 0\n",
    "\n",
    "for i in range(11):\n",
    "    for j in range(11):\n",
    "        w1 = i * 0.1\n",
    "        w2 = j * 0.1\n",
    "        w3 = 1 -w1-w2\n",
    "        if w1<-0.01 or w2<-0.01 or w3<-0.01:\n",
    "            break\n",
    "        train_kernel = w1 * sig_mat + w2 * rbf_mat + w3 * poly_mat\n",
    "        clf = SVC(kernel='precomputed', probability=True)\n",
    "        acc = cross_val_score(clf, train_kernel, y, cv=5, scoring=\"accuracy\")\n",
    "        acc_avg = (acc[0] + acc[1] + acc[2])/3\n",
    "        if acc_avg > best_score:\n",
    "            best_w1 = w1\n",
    "            best_w2 = w2\n",
    "            best_w3 = w3\n",
    "            best_score = acc_avg\n",
    "        \n",
    "print(\"w1:\"+str(best_w1), \"w2:\"+str(best_w2), \"w3:\"+str(best_w3))\n",
    "print(\"score:\"+str(best_score))"
   ]
  },
  {
   "cell_type": "code",
   "execution_count": 10,
   "id": "56fa9b1d",
   "metadata": {},
   "outputs": [
    {
     "name": "stdout",
     "output_type": "stream",
     "text": [
      "[[41  5]\n",
      " [ 8 92]]\n",
      "              precision    recall  f1-score   support\n",
      "\n",
      "           0       0.95      0.92      0.93       100\n",
      "           1       0.84      0.89      0.86        46\n",
      "\n",
      "    accuracy                           0.91       146\n",
      "   macro avg       0.89      0.91      0.90       146\n",
      "weighted avg       0.91      0.91      0.91       146\n",
      "\n",
      "auc: 0.9672222222222222\n",
      "\n"
     ]
    }
   ],
   "source": [
    "train_kernel = best_w1 * sig_mat + best_w2 * rbf_mat + best_w3 * poly_mat\n",
    "y_pred = cross_val_predict(clf, train_kernel, y, cv=5)\n",
    "auc = cross_val_score(clf, train_kernel, y, cv=5, scoring=\"roc_auc\")\n",
    "print(confusion_matrix(y, y_pred,labels=[1,0]))\n",
    "print(classification_report(y, y_pred))\n",
    "auc_avg = (auc[0]+auc[1]+auc[2]+auc[3]+auc[4])/5\n",
    "print(\"auc: \"+str(auc_avg)+\"\\n\")"
   ]
  }
 ],
 "metadata": {
  "kernelspec": {
   "display_name": "base",
   "language": "python",
   "name": "python3"
  },
  "language_info": {
   "codemirror_mode": {
    "name": "ipython",
    "version": 3
   },
   "file_extension": ".py",
   "mimetype": "text/x-python",
   "name": "python",
   "nbconvert_exporter": "python",
   "pygments_lexer": "ipython3",
   "version": "3.9.13"
  },
  "vscode": {
   "interpreter": {
    "hash": "d35206c1d736b3ed2205db967d5af22e7728d97276bf618abc1666c9ff7db053"
   }
  }
 },
 "nbformat": 4,
 "nbformat_minor": 5
}
