{
 "cells": [
  {
   "cell_type": "code",
   "execution_count": 1,
   "id": "00bd1c2c",
   "metadata": {},
   "outputs": [],
   "source": [
    "import numpy as np\n",
    "import csv\n",
    "import pandas as pd\n",
    "from sklearn.model_selection import train_test_split\n",
    "from sklearn.feature_selection import SelectFromModel\n",
    "from sklearn.linear_model import Lasso\n",
    "from sklearn.svm import SVC\n",
    "from sklearn.metrics import classification_report\n",
    "from sklearn.metrics import confusion_matrix\n",
    "from sklearn.metrics import roc_curve\n",
    "import matplotlib.pyplot as plt\n",
    "from sklearn.metrics import auc\n",
    "from sklearn import linear_model\n",
    "from sklearn.linear_model import ElasticNetCV\n",
    "from sklearn.model_selection import RandomizedSearchCV\n",
    "from scipy.stats import uniform\n",
    "from sklearn.metrics.pairwise import sigmoid_kernel, rbf_kernel, polynomial_kernel\n",
    "from sklearn import neighbors\n",
    "from sklearn import tree\n",
    "from sklearn.naive_bayes import GaussianNB\n",
    "from sklearn.ensemble import RandomForestClassifier\n",
    "from sklearn.model_selection import cross_val_score\n",
    "from sklearn.model_selection import cross_val_predict\n"
   ]
  },
  {
   "attachments": {},
   "cell_type": "markdown",
   "id": "b3b68152",
   "metadata": {},
   "source": [
    "## 1. Load Data"
   ]
  },
  {
   "cell_type": "code",
   "execution_count": 2,
   "id": "a96a7552",
   "metadata": {},
   "outputs": [
    {
     "name": "stdout",
     "output_type": "stream",
     "text": [
      "X:(134, 68)\n",
      "y:(134,)\n"
     ]
    }
   ],
   "source": [
    "# Load the features\n",
    "X = np.loadtxt(open(\"AD_MRI_DATA/1-CN_AD/1.2-MRI_SurfaceArea.csv\",\"rb\"),delimiter=\",\",skiprows=0)\n",
    "X = np.array(X, dtype=float)\n",
    "print(\"X:\" + str(X.shape))\n",
    "\n",
    "# Load the labels\n",
    "with open('AD_MRI_DATA/1-CN_AD/1-Phenotype.csv','r') as csvfile:\n",
    "    reader = csv.reader(csvfile)\n",
    "    c1 = [row[1]for row in reader]\n",
    "    \n",
    "del c1[0]\n",
    "y = np.array(c1, dtype=int)\n",
    "print(\"y:\" + str(y.shape))\n"
   ]
  },
  {
   "attachments": {},
   "cell_type": "markdown",
   "id": "bac7c9cc",
   "metadata": {},
   "source": [
    "## 2. Lasso with Classifiers"
   ]
  },
  {
   "cell_type": "markdown",
   "id": "ce69ee6b",
   "metadata": {},
   "source": [
    "### 2.1 Lasso"
   ]
  },
  {
   "cell_type": "code",
   "execution_count": 4,
   "id": "5913d083",
   "metadata": {},
   "outputs": [
    {
     "name": "stdout",
     "output_type": "stream",
     "text": [
      "alpha: 2.114873661318956\n",
      "X_selected: (134, 38)\n"
     ]
    }
   ],
   "source": [
    "model = linear_model.LassoCV()\n",
    "#alphas=[1,0.1,0.01,0.005,0.001,0.0001]\n",
    "model.fit(X, y)\n",
    "\n",
    "print(\"alpha: \" + str(model.alpha_))\n",
    "#print(lasso.coef_)\n",
    "3\n",
    "selector = SelectFromModel(estimator = model, prefit = True)\n",
    "selector.get_support()\n",
    "X_selected = selector.transform(X)\n",
    "print(\"X_selected: \" + str(X_selected.shape))"
   ]
  },
  {
   "attachments": {},
   "cell_type": "markdown",
   "id": "12f5fbd0",
   "metadata": {},
   "source": [
    "### 2.2 Classifiers"
   ]
  },
  {
   "cell_type": "code",
   "execution_count": 5,
   "id": "0b16acf2",
   "metadata": {},
   "outputs": [
    {
     "name": "stdout",
     "output_type": "stream",
     "text": [
      "SVM\n",
      "[[ 0 46]\n",
      " [ 0 88]]\n",
      "              precision    recall  f1-score   support\n",
      "\n",
      "           0       0.66      1.00      0.79        88\n",
      "           1       0.00      0.00      0.00        46\n",
      "\n",
      "    accuracy                           0.66       134\n",
      "   macro avg       0.33      0.50      0.40       134\n",
      "weighted avg       0.43      0.66      0.52       134\n",
      "\n",
      "auc: 0.9859114015976761\n",
      "\n",
      "KNN\n",
      "[[32 14]\n",
      " [ 7 81]]\n",
      "              precision    recall  f1-score   support\n",
      "\n",
      "           0       0.85      0.92      0.89        88\n",
      "           1       0.82      0.70      0.75        46\n",
      "\n",
      "    accuracy                           0.84       134\n",
      "   macro avg       0.84      0.81      0.82       134\n",
      "weighted avg       0.84      0.84      0.84       134\n",
      "\n",
      "auc: 0.8967465504720409\n",
      "\n",
      "Gaussian Naive Bayes\n",
      "[[39  7]\n",
      " [ 4 84]]\n",
      "              precision    recall  f1-score   support\n",
      "\n",
      "           0       0.92      0.95      0.94        88\n",
      "           1       0.91      0.85      0.88        46\n",
      "\n",
      "    accuracy                           0.92       134\n",
      "   macro avg       0.92      0.90      0.91       134\n",
      "weighted avg       0.92      0.92      0.92       134\n",
      "\n",
      "auc: 0.9743355119825707\n",
      "\n",
      "Decision Tree\n",
      "[[39  7]\n",
      " [ 7 81]]\n",
      "              precision    recall  f1-score   support\n",
      "\n",
      "           0       0.92      0.92      0.92        88\n",
      "           1       0.85      0.85      0.85        46\n",
      "\n",
      "    accuracy                           0.90       134\n",
      "   macro avg       0.88      0.88      0.88       134\n",
      "weighted avg       0.90      0.90      0.90       134\n",
      "\n",
      "auc: 0.8605882352941177\n",
      "\n",
      "Random Forest\n"
     ]
    },
    {
     "name": "stderr",
     "output_type": "stream",
     "text": [
      "/Users/zhengwentao/opt/anaconda3/lib/python3.9/site-packages/sklearn/metrics/_classification.py:1318: UndefinedMetricWarning: Precision and F-score are ill-defined and being set to 0.0 in labels with no predicted samples. Use `zero_division` parameter to control this behavior.\n",
      "  _warn_prf(average, modifier, msg_start, len(result))\n",
      "/Users/zhengwentao/opt/anaconda3/lib/python3.9/site-packages/sklearn/metrics/_classification.py:1318: UndefinedMetricWarning: Precision and F-score are ill-defined and being set to 0.0 in labels with no predicted samples. Use `zero_division` parameter to control this behavior.\n",
      "  _warn_prf(average, modifier, msg_start, len(result))\n",
      "/Users/zhengwentao/opt/anaconda3/lib/python3.9/site-packages/sklearn/metrics/_classification.py:1318: UndefinedMetricWarning: Precision and F-score are ill-defined and being set to 0.0 in labels with no predicted samples. Use `zero_division` parameter to control this behavior.\n",
      "  _warn_prf(average, modifier, msg_start, len(result))\n"
     ]
    },
    {
     "name": "stdout",
     "output_type": "stream",
     "text": [
      "[[41  5]\n",
      " [ 2 86]]\n",
      "              precision    recall  f1-score   support\n",
      "\n",
      "           0       0.95      0.98      0.96        88\n",
      "           1       0.95      0.89      0.92        46\n",
      "\n",
      "    accuracy                           0.95       134\n",
      "   macro avg       0.95      0.93      0.94       134\n",
      "weighted avg       0.95      0.95      0.95       134\n",
      "\n",
      "auc: 0.9910675381263616\n",
      "\n"
     ]
    }
   ],
   "source": [
    "for i in range(5):\n",
    "    # SVM\n",
    "    if i == 0:\n",
    "        clf = SVC( random_state=42, probability=True)\n",
    "        print(\"SVM\")\n",
    "        \n",
    "        \n",
    "    # KNN\n",
    "    elif i == 1:\n",
    "        clf = neighbors.KNeighborsClassifier(n_neighbors=2)\n",
    "        print(\"KNN\")\n",
    "        \n",
    "    # Gaussian Naive Bayes\n",
    "    elif i == 2:\n",
    "        clf = GaussianNB()\n",
    "        print(\"Gaussian Naive Bayes\")\n",
    "        \n",
    "    # Decision Tree\n",
    "    elif i == 3:\n",
    "        clf = tree.DecisionTreeClassifier()\n",
    "        print(\"Decision Tree\")\n",
    "        \n",
    "    # Random Forest\n",
    "    else:\n",
    "        clf = RandomForestClassifier()\n",
    "        print(\"Random Forest\")\n",
    "    \n",
    "    # Model Evaluation\n",
    "    y_pred = cross_val_predict(clf, X_selected, y, cv=5)\n",
    "    auc = cross_val_score(clf, X_selected, y, cv=5, scoring=\"roc_auc\")\n",
    "    print(confusion_matrix(y, y_pred,labels=[1,0]))\n",
    "    print(classification_report(y, y_pred))\n",
    "    auc_avg = np.sum(auc) / 5\n",
    "    print(\"auc: \"+str(auc_avg)+\"\\n\")\n"
   ]
  },
  {
   "cell_type": "code",
   "execution_count": 7,
   "id": "64dcd275",
   "metadata": {},
   "outputs": [
    {
     "name": "stdout",
     "output_type": "stream",
     "text": [
      "[[ 0 46]\n",
      " [ 0 88]]\n",
      "              precision    recall  f1-score   support\n",
      "\n",
      "           0       0.66      1.00      0.79        88\n",
      "           1       0.00      0.00      0.00        46\n",
      "\n",
      "    accuracy                           0.66       134\n",
      "   macro avg       0.33      0.50      0.40       134\n",
      "weighted avg       0.43      0.66      0.52       134\n",
      "\n",
      "auc: 0.9859114015976761\n",
      "\n"
     ]
    },
    {
     "name": "stderr",
     "output_type": "stream",
     "text": [
      "/Users/zhengwentao/opt/anaconda3/lib/python3.9/site-packages/sklearn/metrics/_classification.py:1318: UndefinedMetricWarning: Precision and F-score are ill-defined and being set to 0.0 in labels with no predicted samples. Use `zero_division` parameter to control this behavior.\n",
      "  _warn_prf(average, modifier, msg_start, len(result))\n",
      "/Users/zhengwentao/opt/anaconda3/lib/python3.9/site-packages/sklearn/metrics/_classification.py:1318: UndefinedMetricWarning: Precision and F-score are ill-defined and being set to 0.0 in labels with no predicted samples. Use `zero_division` parameter to control this behavior.\n",
      "  _warn_prf(average, modifier, msg_start, len(result))\n",
      "/Users/zhengwentao/opt/anaconda3/lib/python3.9/site-packages/sklearn/metrics/_classification.py:1318: UndefinedMetricWarning: Precision and F-score are ill-defined and being set to 0.0 in labels with no predicted samples. Use `zero_division` parameter to control this behavior.\n",
      "  _warn_prf(average, modifier, msg_start, len(result))\n"
     ]
    }
   ],
   "source": [
    "clf = SVC(C=1, random_state=0, probability=True)\n",
    "\n",
    "y_pred = cross_val_predict(clf, X_selected, y, cv=5)\n",
    "auc = cross_val_score(clf, X_selected, y, cv=5, scoring=\"roc_auc\")\n",
    "print(confusion_matrix(y, y_pred,labels=[1,0]))\n",
    "print(classification_report(y, y_pred))\n",
    "auc_avg = np.sum(auc) / 5\n",
    "print(\"auc: \"+str(auc_avg)+\"\\n\")"
   ]
  },
  {
   "attachments": {},
   "cell_type": "markdown",
   "id": "4aabd4e1",
   "metadata": {},
   "source": [
    "### 2.3 Multi-core SVM"
   ]
  },
  {
   "cell_type": "code",
   "execution_count": 8,
   "id": "a856386d",
   "metadata": {},
   "outputs": [
    {
     "name": "stdout",
     "output_type": "stream",
     "text": [
      "w1:0.0 w2:0.0 w3:1.0\n",
      "score:0.97008547008547\n"
     ]
    }
   ],
   "source": [
    "sig_mat = sigmoid_kernel(X_selected)\n",
    "rbf_mat = rbf_kernel(X_selected)\n",
    "poly_mat = polynomial_kernel(X_selected)\n",
    "\n",
    "best_score = 0\n",
    "best_w1 = 0\n",
    "best_w2 = 0\n",
    "best_w3 = 0\n",
    "\n",
    "for i in range(11):\n",
    "    for j in range(11):\n",
    "        w1 = i * 0.1\n",
    "        w2 = j * 0.1\n",
    "        w3 = 1 -w1-w2\n",
    "        if w1<-0.01 or w2<-0.01 or w3<-0.01:\n",
    "            break\n",
    "        train_kernel = w1 * sig_mat + w2 * rbf_mat + w3 * poly_mat\n",
    "        clf = SVC(kernel='precomputed', probability=True)\n",
    "        acc = cross_val_score(clf, train_kernel, y, cv=5, scoring=\"accuracy\")\n",
    "        acc_avg = np.sum(acc) / 5\n",
    "        if acc_avg > best_score:\n",
    "            best_w1 = w1\n",
    "            best_w2 = w2\n",
    "            best_w3 = w3\n",
    "            best_score = acc_avg\n",
    "        \n",
    "print(\"w1:\"+str(best_w1), \"w2:\"+str(best_w2), \"w3:\"+str(best_w3))\n",
    "print(\"score:\"+str(best_score))"
   ]
  },
  {
   "cell_type": "code",
   "execution_count": 9,
   "id": "12b7f1b9",
   "metadata": {},
   "outputs": [
    {
     "name": "stdout",
     "output_type": "stream",
     "text": [
      "[[44  2]\n",
      " [ 2 86]]\n",
      "              precision    recall  f1-score   support\n",
      "\n",
      "           0       0.98      0.98      0.98        88\n",
      "           1       0.96      0.96      0.96        46\n",
      "\n",
      "    accuracy                           0.97       134\n",
      "   macro avg       0.97      0.97      0.97       134\n",
      "weighted avg       0.97      0.97      0.97       134\n",
      "\n",
      "auc: 0.9859114015976761\n",
      "\n"
     ]
    }
   ],
   "source": [
    "train_kernel = best_w1 * sig_mat + best_w2 * rbf_mat + best_w3 * poly_mat\n",
    "y_pred = cross_val_predict(clf, train_kernel, y, cv=5)\n",
    "auc = cross_val_score(clf, train_kernel, y, cv=5, scoring=\"roc_auc\")\n",
    "print(confusion_matrix(y, y_pred,labels=[1,0]))\n",
    "print(classification_report(y, y_pred))\n",
    "acc_avg = np.sum(acc) / 5\n",
    "print(\"auc: \"+str(auc_avg)+\"\\n\")"
   ]
  },
  {
   "attachments": {},
   "cell_type": "markdown",
   "id": "22a4b90c",
   "metadata": {},
   "source": [
    "## 3. ElasticNet with Classifiers"
   ]
  },
  {
   "cell_type": "markdown",
   "id": "82265fbe",
   "metadata": {},
   "source": [
    "### 3.1 ElasticNet"
   ]
  },
  {
   "cell_type": "code",
   "execution_count": 10,
   "id": "4f27f785",
   "metadata": {},
   "outputs": [
    {
     "name": "stdout",
     "output_type": "stream",
     "text": [
      "alpha: 4.2297473226379125\n",
      "X_selected: (134, 18)\n"
     ]
    }
   ],
   "source": [
    "model = ElasticNetCV(random_state=0)\n",
    "#,alphas=[1,0.1,0.01,0.005,0.001,0.0001]\n",
    "model.fit(X, y)\n",
    "\n",
    "print(\"alpha: \" + str(model.alpha_))\n",
    "#print(els.coef_)\n",
    "\n",
    "selector = SelectFromModel(estimator = model, prefit = True)\n",
    "selector.get_support()\n",
    "X_selected = selector.transform(X)\n",
    "print(\"X_selected: \" + str(X_selected.shape))"
   ]
  },
  {
   "attachments": {},
   "cell_type": "markdown",
   "id": "1f79f8ac",
   "metadata": {},
   "source": [
    "### 3.2 Classifiers"
   ]
  },
  {
   "cell_type": "code",
   "execution_count": 11,
   "id": "0990e313",
   "metadata": {},
   "outputs": [
    {
     "name": "stdout",
     "output_type": "stream",
     "text": [
      "SVM\n",
      "[[23 23]\n",
      " [ 0 88]]\n",
      "              precision    recall  f1-score   support\n",
      "\n",
      "           0       0.79      1.00      0.88        88\n",
      "           1       1.00      0.50      0.67        46\n",
      "\n",
      "    accuracy                           0.83       134\n",
      "   macro avg       0.90      0.75      0.78       134\n",
      "weighted avg       0.86      0.83      0.81       134\n",
      "\n",
      "auc: 0.9859114015976761\n",
      "\n",
      "KNN\n",
      "[[37  9]\n",
      " [ 0 88]]\n",
      "              precision    recall  f1-score   support\n",
      "\n",
      "           0       0.91      1.00      0.95        88\n",
      "           1       1.00      0.80      0.89        46\n",
      "\n",
      "    accuracy                           0.93       134\n",
      "   macro avg       0.95      0.90      0.92       134\n",
      "weighted avg       0.94      0.93      0.93       134\n",
      "\n",
      "auc: 0.9859114015976761\n",
      "\n",
      "Gaussian Naive Bayes\n",
      "[[38  8]\n",
      " [ 5 83]]\n",
      "              precision    recall  f1-score   support\n",
      "\n",
      "           0       0.91      0.94      0.93        88\n",
      "           1       0.88      0.83      0.85        46\n",
      "\n",
      "    accuracy                           0.90       134\n",
      "   macro avg       0.90      0.88      0.89       134\n",
      "weighted avg       0.90      0.90      0.90       134\n",
      "\n",
      "auc: 0.9859114015976761\n",
      "\n",
      "Decision Tree\n",
      "[[41  5]\n",
      " [ 8 80]]\n",
      "              precision    recall  f1-score   support\n",
      "\n",
      "           0       0.94      0.91      0.92        88\n",
      "           1       0.84      0.89      0.86        46\n",
      "\n",
      "    accuracy                           0.90       134\n",
      "   macro avg       0.89      0.90      0.89       134\n",
      "weighted avg       0.91      0.90      0.90       134\n",
      "\n",
      "auc: 0.9859114015976761\n",
      "\n",
      "Random Forest\n",
      "[[41  5]\n",
      " [ 2 86]]\n",
      "              precision    recall  f1-score   support\n",
      "\n",
      "           0       0.95      0.98      0.96        88\n",
      "           1       0.95      0.89      0.92        46\n",
      "\n",
      "    accuracy                           0.95       134\n",
      "   macro avg       0.95      0.93      0.94       134\n",
      "weighted avg       0.95      0.95      0.95       134\n",
      "\n",
      "auc: 0.9859114015976761\n",
      "\n"
     ]
    }
   ],
   "source": [
    "for i in range(5):\n",
    "    # SVM\n",
    "    if i == 0:\n",
    "        clf = SVC(C=1, random_state=42, probability=True)\n",
    "        print(\"SVM\")\n",
    "        \n",
    "        \n",
    "    # KNN\n",
    "    elif i == 1:\n",
    "        clf = neighbors.KNeighborsClassifier(n_neighbors=2)\n",
    "        print(\"KNN\")\n",
    "        \n",
    "    # Gaussian Naive Bayes\n",
    "    elif i == 2:\n",
    "        clf = GaussianNB()\n",
    "        print(\"Gaussian Naive Bayes\")\n",
    "        \n",
    "    # Decision Tree\n",
    "    elif i == 3:\n",
    "        clf = tree.DecisionTreeClassifier()\n",
    "        print(\"Decision Tree\")\n",
    "        \n",
    "    # Random Forest\n",
    "    else:\n",
    "        clf = RandomForestClassifier()\n",
    "        print(\"Random Forest\")\n",
    "    \n",
    "    # Model Evaluation\n",
    "    y_pred = cross_val_predict(clf, X_selected, y, cv=5)\n",
    "    auc = cross_val_score(clf, X_selected, y, cv=5, scoring=\"roc_auc\")\n",
    "    print(confusion_matrix(y, y_pred,labels=[1,0]))\n",
    "    print(classification_report(y, y_pred))\n",
    "    acc_avg = np.sum(acc) / 5\n",
    "    print(\"auc: \"+str(auc_avg)+\"\\n\")"
   ]
  },
  {
   "attachments": {},
   "cell_type": "markdown",
   "id": "b759ab23",
   "metadata": {},
   "source": [
    "### 3.3 Multi-core SVM"
   ]
  },
  {
   "cell_type": "code",
   "execution_count": 12,
   "id": "1fee9785",
   "metadata": {},
   "outputs": [
    {
     "name": "stdout",
     "output_type": "stream",
     "text": [
      "w1:0.0 w2:0.0 w3:1.0\n",
      "score:0.97008547008547\n"
     ]
    }
   ],
   "source": [
    "sig_mat = sigmoid_kernel(X_selected)\n",
    "rbf_mat = rbf_kernel(X_selected)\n",
    "poly_mat = polynomial_kernel(X_selected)\n",
    "\n",
    "best_score = 0\n",
    "best_w1 = 0\n",
    "best_w2 = 0\n",
    "best_w3 = 0\n",
    "\n",
    "for i in range(11):\n",
    "    for j in range(11):\n",
    "        w1 = i * 0.1\n",
    "        w2 = j * 0.1\n",
    "        w3 = 1 -w1-w2\n",
    "        if w1<-0.01 or w2<-0.01 or w3<-0.01:\n",
    "            break\n",
    "        train_kernel = w1 * sig_mat + w2 * rbf_mat + w3 * poly_mat\n",
    "        clf = SVC(kernel='precomputed', probability=True)\n",
    "        acc = cross_val_score(clf, train_kernel, y, cv=5, scoring=\"accuracy\")\n",
    "        acc_avg = np.sum(acc) / 5\n",
    "        if acc_avg > best_score:\n",
    "            best_w1 = w1\n",
    "            best_w2 = w2\n",
    "            best_w3 = w3\n",
    "            best_score = acc_avg\n",
    "        \n",
    "print(\"w1:\"+str(best_w1), \"w2:\"+str(best_w2), \"w3:\"+str(best_w3))\n",
    "print(\"score:\"+str(best_score))"
   ]
  },
  {
   "cell_type": "code",
   "execution_count": 13,
   "id": "56fa9b1d",
   "metadata": {},
   "outputs": [
    {
     "name": "stdout",
     "output_type": "stream",
     "text": [
      "[[43  3]\n",
      " [ 1 87]]\n",
      "              precision    recall  f1-score   support\n",
      "\n",
      "           0       0.97      0.99      0.98        88\n",
      "           1       0.98      0.93      0.96        46\n",
      "\n",
      "    accuracy                           0.97       134\n",
      "   macro avg       0.97      0.96      0.97       134\n",
      "weighted avg       0.97      0.97      0.97       134\n",
      "\n",
      "auc: 0.9859114015976761\n",
      "\n"
     ]
    }
   ],
   "source": [
    "train_kernel = best_w1 * sig_mat + best_w2 * rbf_mat + best_w3 * poly_mat\n",
    "y_pred = cross_val_predict(clf, train_kernel, y, cv=5)\n",
    "auc = cross_val_score(clf, train_kernel, y, cv=5, scoring=\"roc_auc\")\n",
    "print(confusion_matrix(y, y_pred,labels=[1,0]))\n",
    "print(classification_report(y, y_pred))\n",
    "acc_avg = np.sum(acc) / 5\n",
    "print(\"auc: \"+str(auc_avg)+\"\\n\")"
   ]
  }
 ],
 "metadata": {
  "kernelspec": {
   "display_name": "base",
   "language": "python",
   "name": "python3"
  },
  "language_info": {
   "codemirror_mode": {
    "name": "ipython",
    "version": 3
   },
   "file_extension": ".py",
   "mimetype": "text/x-python",
   "name": "python",
   "nbconvert_exporter": "python",
   "pygments_lexer": "ipython3",
   "version": "3.9.13"
  },
  "vscode": {
   "interpreter": {
    "hash": "d35206c1d736b3ed2205db967d5af22e7728d97276bf618abc1666c9ff7db053"
   }
  }
 },
 "nbformat": 4,
 "nbformat_minor": 5
}
