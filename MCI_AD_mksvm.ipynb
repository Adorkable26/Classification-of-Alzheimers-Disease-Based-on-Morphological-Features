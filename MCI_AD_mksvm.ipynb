{
 "cells": [
  {
   "cell_type": "code",
   "execution_count": 1,
   "id": "00bd1c2c",
   "metadata": {},
   "outputs": [],
   "source": [
    "import numpy as np\n",
    "import csv\n",
    "import pandas as pd\n",
    "from sklearn.model_selection import train_test_split\n",
    "from sklearn.feature_selection import SelectFromModel\n",
    "from sklearn.linear_model import Lasso\n",
    "from sklearn.svm import SVC\n",
    "from sklearn.metrics import classification_report\n",
    "from sklearn.metrics import confusion_matrix\n",
    "from sklearn.metrics import roc_curve\n",
    "import matplotlib.pyplot as plt\n",
    "from sklearn.metrics import auc\n",
    "from sklearn import linear_model\n",
    "from sklearn.linear_model import ElasticNetCV\n",
    "from sklearn.model_selection import RandomizedSearchCV\n",
    "from scipy.stats import uniform\n",
    "from sklearn.metrics.pairwise import sigmoid_kernel, rbf_kernel, polynomial_kernel\n",
    "from sklearn import neighbors\n",
    "from sklearn import tree\n",
    "from sklearn.naive_bayes import GaussianNB\n",
    "from sklearn.ensemble import RandomForestClassifier\n",
    "from sklearn.model_selection import cross_val_score\n",
    "from sklearn.model_selection import cross_val_predict\n"
   ]
  },
  {
   "attachments": {},
   "cell_type": "markdown",
   "id": "b3b68152",
   "metadata": {},
   "source": [
    "## 1. Load Data"
   ]
  },
  {
   "cell_type": "code",
   "execution_count": null,
   "metadata": {},
   "outputs": [],
   "source": []
  },
  {
   "cell_type": "code",
   "execution_count": null,
   "id": "dc7684a9",
   "metadata": {},
   "outputs": [],
   "source": []
  },
  {
   "cell_type": "code",
   "execution_count": 2,
   "id": "a96a7552",
   "metadata": {},
   "outputs": [
    {
     "name": "stdout",
     "output_type": "stream",
     "text": [
      "X1:(146, 136)\n",
      "X2:(146, 68)\n",
      "X3:(146, 109)\n",
      "y:(146,)\n"
     ]
    }
   ],
   "source": [
    "# Load the features\n",
    "X1 = np.loadtxt(open(\"AD_MRI_DATA/3-MCI_AD/3.1-MRI_CorticalThickness.csv\",\"rb\"),delimiter=\",\",skiprows=0)\n",
    "X1 = np.array(X1, dtype=float)\n",
    "print(\"X1:\" + str(X1.shape))\n",
    "\n",
    "X2 = np.loadtxt(open(\"AD_MRI_DATA/3-MCI_AD/3.2-MRI_SurfaceArea.csv\",\"rb\"),delimiter=\",\",skiprows=0)\n",
    "X2 = np.array(X2, dtype=float)\n",
    "print(\"X2:\" + str(X2.shape))\n",
    "\n",
    "X3 = np.loadtxt(open(\"AD_MRI_DATA/3-MCI_AD/3.3-MRI_Volume.csv\",\"rb\"),delimiter=\",\",skiprows=0)\n",
    "X3 = np.array(X3, dtype=float)\n",
    "print(\"X3:\" + str(X3.shape))\n",
    "\n",
    "# Load the labels\n",
    "with open('AD_MRI_DATA/3-MCI_AD/3-Phenotype.csv','r') as csvfile:\n",
    "    reader = csv.reader(csvfile)\n",
    "    c1 = [row[1]for row in reader]\n",
    "    \n",
    "del c1[0]\n",
    "y = np.array(c1, dtype=int)\n",
    "print(\"y:\" + str(y.shape))\n"
   ]
  },
  {
   "cell_type": "code",
   "execution_count": 3,
   "id": "ccb68716",
   "metadata": {},
   "outputs": [],
   "source": [
    "from sklearn import preprocessing\n",
    "\n",
    "min_max_scaler = preprocessing.MinMaxScaler()\n",
    "X1 = min_max_scaler.fit_transform(X1)\n",
    "X2 = min_max_scaler.fit_transform(X2)\n",
    "X3 = min_max_scaler.fit_transform(X3)"
   ]
  },
  {
   "cell_type": "markdown",
   "id": "bac7c9cc",
   "metadata": {},
   "source": [
    "## 2. Lasso+MKSVM"
   ]
  },
  {
   "cell_type": "markdown",
   "id": "b60e87b6",
   "metadata": {},
   "source": [
    "### 2.1 lasso"
   ]
  },
  {
   "cell_type": "code",
   "execution_count": 5,
   "id": "3f33fc4c",
   "metadata": {},
   "outputs": [],
   "source": [
    "\n",
    "w11, w12, w13 = 0, 0.3, 0.7\n",
    "w21, w22, w23 = 0, 0, 1\n",
    "w31, w32, w33 = 0, 0, 1"
   ]
  },
  {
   "cell_type": "code",
   "execution_count": 6,
   "id": "5913d083",
   "metadata": {},
   "outputs": [
    {
     "name": "stderr",
     "output_type": "stream",
     "text": [
      "/Users/zhengwentao/opt/anaconda3/lib/python3.9/site-packages/sklearn/linear_model/_coordinate_descent.py:647: ConvergenceWarning: Objective did not converge. You might want to increase the number of iterations, check the scale of the features or consider increasing regularisation. Duality gap: 2.703e-03, tolerance: 2.444e-03\n",
      "  model = cd_fast.enet_coordinate_descent(\n",
      "/Users/zhengwentao/opt/anaconda3/lib/python3.9/site-packages/sklearn/linear_model/_coordinate_descent.py:647: ConvergenceWarning: Objective did not converge. You might want to increase the number of iterations, check the scale of the features or consider increasing regularisation. Duality gap: 2.675e-03, tolerance: 2.444e-03\n",
      "  model = cd_fast.enet_coordinate_descent(\n",
      "/Users/zhengwentao/opt/anaconda3/lib/python3.9/site-packages/sklearn/linear_model/_coordinate_descent.py:647: ConvergenceWarning: Objective did not converge. You might want to increase the number of iterations, check the scale of the features or consider increasing regularisation. Duality gap: 2.972e-03, tolerance: 2.492e-03\n",
      "  model = cd_fast.enet_coordinate_descent(\n",
      "/Users/zhengwentao/opt/anaconda3/lib/python3.9/site-packages/sklearn/linear_model/_coordinate_descent.py:647: ConvergenceWarning: Objective did not converge. You might want to increase the number of iterations, check the scale of the features or consider increasing regularisation. Duality gap: 2.941e-03, tolerance: 2.492e-03\n",
      "  model = cd_fast.enet_coordinate_descent(\n",
      "/Users/zhengwentao/opt/anaconda3/lib/python3.9/site-packages/sklearn/linear_model/_coordinate_descent.py:647: ConvergenceWarning: Objective did not converge. You might want to increase the number of iterations, check the scale of the features or consider increasing regularisation. Duality gap: 3.624e-03, tolerance: 2.492e-03\n",
      "  model = cd_fast.enet_coordinate_descent(\n",
      "/Users/zhengwentao/opt/anaconda3/lib/python3.9/site-packages/sklearn/linear_model/_coordinate_descent.py:647: ConvergenceWarning: Objective did not converge. You might want to increase the number of iterations, check the scale of the features or consider increasing regularisation. Duality gap: 3.360e-03, tolerance: 2.492e-03\n",
      "  model = cd_fast.enet_coordinate_descent(\n",
      "/Users/zhengwentao/opt/anaconda3/lib/python3.9/site-packages/sklearn/linear_model/_coordinate_descent.py:647: ConvergenceWarning: Objective did not converge. You might want to increase the number of iterations, check the scale of the features or consider increasing regularisation. Duality gap: 3.539e-03, tolerance: 2.492e-03\n",
      "  model = cd_fast.enet_coordinate_descent(\n",
      "/Users/zhengwentao/opt/anaconda3/lib/python3.9/site-packages/sklearn/linear_model/_coordinate_descent.py:647: ConvergenceWarning: Objective did not converge. You might want to increase the number of iterations, check the scale of the features or consider increasing regularisation. Duality gap: 2.933e-03, tolerance: 2.453e-03\n",
      "  model = cd_fast.enet_coordinate_descent(\n"
     ]
    },
    {
     "name": "stdout",
     "output_type": "stream",
     "text": [
      "alpha: 0.002319855678947928\n",
      "X_selected1: (146, 58)\n"
     ]
    },
    {
     "name": "stderr",
     "output_type": "stream",
     "text": [
      "/Users/zhengwentao/opt/anaconda3/lib/python3.9/site-packages/sklearn/linear_model/_coordinate_descent.py:647: ConvergenceWarning: Objective did not converge. You might want to increase the number of iterations, check the scale of the features or consider increasing regularisation. Duality gap: 3.233e-03, tolerance: 2.530e-03\n",
      "  model = cd_fast.enet_coordinate_descent(\n",
      "/Users/zhengwentao/opt/anaconda3/lib/python3.9/site-packages/sklearn/linear_model/_coordinate_descent.py:647: ConvergenceWarning: Objective did not converge. You might want to increase the number of iterations, check the scale of the features or consider increasing regularisation. Duality gap: 4.427e-03, tolerance: 2.530e-03\n",
      "  model = cd_fast.enet_coordinate_descent(\n",
      "/Users/zhengwentao/opt/anaconda3/lib/python3.9/site-packages/sklearn/linear_model/_coordinate_descent.py:647: ConvergenceWarning: Objective did not converge. You might want to increase the number of iterations, check the scale of the features or consider increasing regularisation. Duality gap: 3.195e-03, tolerance: 2.530e-03\n",
      "  model = cd_fast.enet_coordinate_descent(\n",
      "/Users/zhengwentao/opt/anaconda3/lib/python3.9/site-packages/sklearn/linear_model/_coordinate_descent.py:647: ConvergenceWarning: Objective did not converge. You might want to increase the number of iterations, check the scale of the features or consider increasing regularisation. Duality gap: 2.968e-03, tolerance: 2.530e-03\n",
      "  model = cd_fast.enet_coordinate_descent(\n"
     ]
    }
   ],
   "source": [
    "# Feature 1：CorticalThickness\n",
    "model = linear_model.LassoCV()\n",
    "#alphas=[1,0.1,0.01,0.005,0.001,0.0001]\n",
    "model.fit(X1, y)\n",
    "\n",
    "print(\"alpha: \" + str(model.alpha_))\n",
    "#print(lasso.coef_)\n",
    "\n",
    "selector = SelectFromModel(estimator = model, prefit = True)\n",
    "selector.get_support()\n",
    "X_selected1 = selector.transform(X1)\n",
    "print(\"X_selected1: \" + str(X_selected1.shape))\n"
   ]
  },
  {
   "cell_type": "code",
   "execution_count": 7,
   "id": "a565037c",
   "metadata": {},
   "outputs": [
    {
     "name": "stdout",
     "output_type": "stream",
     "text": [
      "alpha: 0.0017514812746641326\n",
      "X_selected2: (146, 36)\n"
     ]
    }
   ],
   "source": [
    "# Feature 2：SurfaceArea\n",
    "model = linear_model.LassoCV()\n",
    "#alphas=[1,0.1,0.01,0.005,0.001,0.0001]\n",
    "model.fit(X2, y)\n",
    "\n",
    "print(\"alpha: \" + str(model.alpha_))\n",
    "#print(lasso.coef_)\n",
    "\n",
    "selector = SelectFromModel(estimator = model, prefit = True)\n",
    "selector.get_support()\n",
    "X_selected2 = selector.transform(X2)\n",
    "print(\"X_selected2: \" + str(X_selected2.shape))\n"
   ]
  },
  {
   "cell_type": "code",
   "execution_count": 8,
   "id": "7a723a64",
   "metadata": {},
   "outputs": [
    {
     "name": "stderr",
     "output_type": "stream",
     "text": [
      "/Users/zhengwentao/opt/anaconda3/lib/python3.9/site-packages/sklearn/linear_model/_coordinate_descent.py:633: ConvergenceWarning: Objective did not converge. You might want to increase the number of iterations. Duality gap: 0.002477271916442314, tolerance: 0.00244396551724138\n",
      "  model = cd_fast.enet_coordinate_descent_gram(\n",
      "/Users/zhengwentao/opt/anaconda3/lib/python3.9/site-packages/sklearn/linear_model/_coordinate_descent.py:633: ConvergenceWarning: Objective did not converge. You might want to increase the number of iterations. Duality gap: 0.004009764960690498, tolerance: 0.00244396551724138\n",
      "  model = cd_fast.enet_coordinate_descent_gram(\n",
      "/Users/zhengwentao/opt/anaconda3/lib/python3.9/site-packages/sklearn/linear_model/_coordinate_descent.py:633: ConvergenceWarning: Objective did not converge. You might want to increase the number of iterations. Duality gap: 0.004259374209310329, tolerance: 0.00244396551724138\n",
      "  model = cd_fast.enet_coordinate_descent_gram(\n",
      "/Users/zhengwentao/opt/anaconda3/lib/python3.9/site-packages/sklearn/linear_model/_coordinate_descent.py:633: ConvergenceWarning: Objective did not converge. You might want to increase the number of iterations. Duality gap: 0.003909525970380412, tolerance: 0.00244396551724138\n",
      "  model = cd_fast.enet_coordinate_descent_gram(\n",
      "/Users/zhengwentao/opt/anaconda3/lib/python3.9/site-packages/sklearn/linear_model/_coordinate_descent.py:633: ConvergenceWarning: Objective did not converge. You might want to increase the number of iterations. Duality gap: 0.003862890805821584, tolerance: 0.00244396551724138\n",
      "  model = cd_fast.enet_coordinate_descent_gram(\n",
      "/Users/zhengwentao/opt/anaconda3/lib/python3.9/site-packages/sklearn/linear_model/_coordinate_descent.py:633: ConvergenceWarning: Objective did not converge. You might want to increase the number of iterations. Duality gap: 0.00381173845982552, tolerance: 0.00244396551724138\n",
      "  model = cd_fast.enet_coordinate_descent_gram(\n",
      "/Users/zhengwentao/opt/anaconda3/lib/python3.9/site-packages/sklearn/linear_model/_coordinate_descent.py:633: ConvergenceWarning: Objective did not converge. You might want to increase the number of iterations. Duality gap: 0.003924811428907327, tolerance: 0.00244396551724138\n",
      "  model = cd_fast.enet_coordinate_descent_gram(\n",
      "/Users/zhengwentao/opt/anaconda3/lib/python3.9/site-packages/sklearn/linear_model/_coordinate_descent.py:633: ConvergenceWarning: Objective did not converge. You might want to increase the number of iterations. Duality gap: 0.004121440891950767, tolerance: 0.00244396551724138\n",
      "  model = cd_fast.enet_coordinate_descent_gram(\n",
      "/Users/zhengwentao/opt/anaconda3/lib/python3.9/site-packages/sklearn/linear_model/_coordinate_descent.py:633: ConvergenceWarning: Objective did not converge. You might want to increase the number of iterations. Duality gap: 0.00347743083188945, tolerance: 0.00244396551724138\n",
      "  model = cd_fast.enet_coordinate_descent_gram(\n",
      "/Users/zhengwentao/opt/anaconda3/lib/python3.9/site-packages/sklearn/linear_model/_coordinate_descent.py:633: ConvergenceWarning: Objective did not converge. You might want to increase the number of iterations. Duality gap: 0.005883598813673618, tolerance: 0.00244396551724138\n",
      "  model = cd_fast.enet_coordinate_descent_gram(\n",
      "/Users/zhengwentao/opt/anaconda3/lib/python3.9/site-packages/sklearn/linear_model/_coordinate_descent.py:633: ConvergenceWarning: Objective did not converge. You might want to increase the number of iterations. Duality gap: 0.005761259972370869, tolerance: 0.00244396551724138\n",
      "  model = cd_fast.enet_coordinate_descent_gram(\n",
      "/Users/zhengwentao/opt/anaconda3/lib/python3.9/site-packages/sklearn/linear_model/_coordinate_descent.py:633: ConvergenceWarning: Objective did not converge. You might want to increase the number of iterations. Duality gap: 0.0037839027147287263, tolerance: 0.0026632478632478648\n",
      "  model = cd_fast.enet_coordinate_descent_gram(\n",
      "/Users/zhengwentao/opt/anaconda3/lib/python3.9/site-packages/sklearn/linear_model/_coordinate_descent.py:633: ConvergenceWarning: Objective did not converge. You might want to increase the number of iterations. Duality gap: 0.0038271985134668007, tolerance: 0.0026632478632478648\n",
      "  model = cd_fast.enet_coordinate_descent_gram(\n",
      "/Users/zhengwentao/opt/anaconda3/lib/python3.9/site-packages/sklearn/linear_model/_coordinate_descent.py:633: ConvergenceWarning: Objective did not converge. You might want to increase the number of iterations. Duality gap: 0.005074941163614399, tolerance: 0.0026632478632478648\n",
      "  model = cd_fast.enet_coordinate_descent_gram(\n",
      "/Users/zhengwentao/opt/anaconda3/lib/python3.9/site-packages/sklearn/linear_model/_coordinate_descent.py:633: ConvergenceWarning: Objective did not converge. You might want to increase the number of iterations. Duality gap: 0.005057461822656539, tolerance: 0.0026632478632478648\n",
      "  model = cd_fast.enet_coordinate_descent_gram(\n",
      "/Users/zhengwentao/opt/anaconda3/lib/python3.9/site-packages/sklearn/linear_model/_coordinate_descent.py:633: ConvergenceWarning: Objective did not converge. You might want to increase the number of iterations. Duality gap: 0.009723971805645215, tolerance: 0.0026632478632478648\n",
      "  model = cd_fast.enet_coordinate_descent_gram(\n",
      "/Users/zhengwentao/opt/anaconda3/lib/python3.9/site-packages/sklearn/linear_model/_coordinate_descent.py:633: ConvergenceWarning: Objective did not converge. You might want to increase the number of iterations. Duality gap: 0.003298699027722396, tolerance: 0.0024529914529914524\n",
      "  model = cd_fast.enet_coordinate_descent_gram(\n",
      "/Users/zhengwentao/opt/anaconda3/lib/python3.9/site-packages/sklearn/linear_model/_coordinate_descent.py:633: ConvergenceWarning: Objective did not converge. You might want to increase the number of iterations. Duality gap: 0.004720511738683264, tolerance: 0.0024529914529914524\n",
      "  model = cd_fast.enet_coordinate_descent_gram(\n",
      "/Users/zhengwentao/opt/anaconda3/lib/python3.9/site-packages/sklearn/linear_model/_coordinate_descent.py:633: ConvergenceWarning: Objective did not converge. You might want to increase the number of iterations. Duality gap: 0.005048599404788412, tolerance: 0.0024529914529914524\n",
      "  model = cd_fast.enet_coordinate_descent_gram(\n",
      "/Users/zhengwentao/opt/anaconda3/lib/python3.9/site-packages/sklearn/linear_model/_coordinate_descent.py:633: ConvergenceWarning: Objective did not converge. You might want to increase the number of iterations. Duality gap: 0.004057488398195197, tolerance: 0.0024529914529914524\n",
      "  model = cd_fast.enet_coordinate_descent_gram(\n",
      "/Users/zhengwentao/opt/anaconda3/lib/python3.9/site-packages/sklearn/linear_model/_coordinate_descent.py:633: ConvergenceWarning: Objective did not converge. You might want to increase the number of iterations. Duality gap: 0.005206083583704779, tolerance: 0.0024529914529914524\n",
      "  model = cd_fast.enet_coordinate_descent_gram(\n",
      "/Users/zhengwentao/opt/anaconda3/lib/python3.9/site-packages/sklearn/linear_model/_coordinate_descent.py:633: ConvergenceWarning: Objective did not converge. You might want to increase the number of iterations. Duality gap: 0.0036034370684956407, tolerance: 0.0024529914529914524\n",
      "  model = cd_fast.enet_coordinate_descent_gram(\n",
      "/Users/zhengwentao/opt/anaconda3/lib/python3.9/site-packages/sklearn/linear_model/_coordinate_descent.py:633: ConvergenceWarning: Objective did not converge. You might want to increase the number of iterations. Duality gap: 0.0033163679156562598, tolerance: 0.0024529914529914524\n",
      "  model = cd_fast.enet_coordinate_descent_gram(\n",
      "/Users/zhengwentao/opt/anaconda3/lib/python3.9/site-packages/sklearn/linear_model/_coordinate_descent.py:633: ConvergenceWarning: Objective did not converge. You might want to increase the number of iterations. Duality gap: 0.003883672313972797, tolerance: 0.0024529914529914524\n",
      "  model = cd_fast.enet_coordinate_descent_gram(\n",
      "/Users/zhengwentao/opt/anaconda3/lib/python3.9/site-packages/sklearn/linear_model/_coordinate_descent.py:633: ConvergenceWarning: Objective did not converge. You might want to increase the number of iterations. Duality gap: 0.002736986446234102, tolerance: 0.0024529914529914524\n",
      "  model = cd_fast.enet_coordinate_descent_gram(\n",
      "/Users/zhengwentao/opt/anaconda3/lib/python3.9/site-packages/sklearn/linear_model/_coordinate_descent.py:633: ConvergenceWarning: Objective did not converge. You might want to increase the number of iterations. Duality gap: 0.003244446757000752, tolerance: 0.0024529914529914524\n",
      "  model = cd_fast.enet_coordinate_descent_gram(\n",
      "/Users/zhengwentao/opt/anaconda3/lib/python3.9/site-packages/sklearn/linear_model/_coordinate_descent.py:633: ConvergenceWarning: Objective did not converge. You might want to increase the number of iterations. Duality gap: 0.0038874830097186397, tolerance: 0.0024529914529914524\n",
      "  model = cd_fast.enet_coordinate_descent_gram(\n",
      "/Users/zhengwentao/opt/anaconda3/lib/python3.9/site-packages/sklearn/linear_model/_coordinate_descent.py:633: ConvergenceWarning: Objective did not converge. You might want to increase the number of iterations. Duality gap: 0.007128241872226715, tolerance: 0.0024529914529914524\n",
      "  model = cd_fast.enet_coordinate_descent_gram(\n",
      "/Users/zhengwentao/opt/anaconda3/lib/python3.9/site-packages/sklearn/linear_model/_coordinate_descent.py:633: ConvergenceWarning: Objective did not converge. You might want to increase the number of iterations. Duality gap: 0.004648917366954941, tolerance: 0.0024529914529914524\n",
      "  model = cd_fast.enet_coordinate_descent_gram(\n"
     ]
    },
    {
     "name": "stdout",
     "output_type": "stream",
     "text": [
      "alpha: 0.0041760159277841645\n",
      "X_selected3: (146, 26)\n"
     ]
    },
    {
     "name": "stderr",
     "output_type": "stream",
     "text": [
      "/Users/zhengwentao/opt/anaconda3/lib/python3.9/site-packages/sklearn/linear_model/_coordinate_descent.py:633: ConvergenceWarning: Objective did not converge. You might want to increase the number of iterations. Duality gap: 0.004105898246002604, tolerance: 0.0024529914529914524\n",
      "  model = cd_fast.enet_coordinate_descent_gram(\n",
      "/Users/zhengwentao/opt/anaconda3/lib/python3.9/site-packages/sklearn/linear_model/_coordinate_descent.py:633: ConvergenceWarning: Objective did not converge. You might want to increase the number of iterations. Duality gap: 0.00337681243720378, tolerance: 0.0024529914529914524\n",
      "  model = cd_fast.enet_coordinate_descent_gram(\n",
      "/Users/zhengwentao/opt/anaconda3/lib/python3.9/site-packages/sklearn/linear_model/_coordinate_descent.py:633: ConvergenceWarning: Objective did not converge. You might want to increase the number of iterations. Duality gap: 0.0027647761240636726, tolerance: 0.0024529914529914524\n",
      "  model = cd_fast.enet_coordinate_descent_gram(\n",
      "/Users/zhengwentao/opt/anaconda3/lib/python3.9/site-packages/sklearn/linear_model/_coordinate_descent.py:633: ConvergenceWarning: Objective did not converge. You might want to increase the number of iterations. Duality gap: 0.002647298084046068, tolerance: 0.0024529914529914524\n",
      "  model = cd_fast.enet_coordinate_descent_gram(\n",
      "/Users/zhengwentao/opt/anaconda3/lib/python3.9/site-packages/sklearn/linear_model/_coordinate_descent.py:633: ConvergenceWarning: Objective did not converge. You might want to increase the number of iterations. Duality gap: 0.002837908067244488, tolerance: 0.0024529914529914524\n",
      "  model = cd_fast.enet_coordinate_descent_gram(\n",
      "/Users/zhengwentao/opt/anaconda3/lib/python3.9/site-packages/sklearn/linear_model/_coordinate_descent.py:633: ConvergenceWarning: Objective did not converge. You might want to increase the number of iterations. Duality gap: 0.0030775816865231675, tolerance: 0.0024529914529914524\n",
      "  model = cd_fast.enet_coordinate_descent_gram(\n",
      "/Users/zhengwentao/opt/anaconda3/lib/python3.9/site-packages/sklearn/linear_model/_coordinate_descent.py:633: ConvergenceWarning: Objective did not converge. You might want to increase the number of iterations. Duality gap: 0.0036990865356334446, tolerance: 0.0025299145299145305\n",
      "  model = cd_fast.enet_coordinate_descent_gram(\n",
      "/Users/zhengwentao/opt/anaconda3/lib/python3.9/site-packages/sklearn/linear_model/_coordinate_descent.py:633: ConvergenceWarning: Objective did not converge. You might want to increase the number of iterations. Duality gap: 0.00390626798300564, tolerance: 0.0025299145299145305\n",
      "  model = cd_fast.enet_coordinate_descent_gram(\n"
     ]
    }
   ],
   "source": [
    "# Feature 3：Volume\n",
    "model = linear_model.LassoCV()\n",
    "#alphas=[1,0.1,0.01,0.005,0.001,0.0001]\n",
    "model.fit(X3, y)\n",
    "\n",
    "print(\"alpha: \" + str(model.alpha_))\n",
    "#print(lasso.coef_)\n",
    "\n",
    "selector = SelectFromModel(estimator = model, prefit = True)\n",
    "selector.get_support()\n",
    "X_selected3 = selector.transform(X3)\n",
    "print(\"X_selected3: \" + str(X_selected3.shape))\n"
   ]
  },
  {
   "attachments": {},
   "cell_type": "markdown",
   "id": "9f4ddf43",
   "metadata": {},
   "source": [
    "### 2.2 Multi-core SVM"
   ]
  },
  {
   "cell_type": "code",
   "execution_count": 9,
   "id": "523c3bab",
   "metadata": {},
   "outputs": [
    {
     "name": "stdout",
     "output_type": "stream",
     "text": [
      "w1:0.0 w2:0.30000000000000004 w3:0.7\n",
      "score:0.9726436781609195\n"
     ]
    }
   ],
   "source": [
    "# Calculate the kernel matrix of CorticalThickness\n",
    "sig_mat1 = sigmoid_kernel(X_selected1)\n",
    "rbf_mat1 = rbf_kernel(X_selected1)\n",
    "poly_mat1 = polynomial_kernel(X_selected1)\n",
    "\n",
    "\n",
    "# Calculate the kernel matrix of SurfaceArea\n",
    "sig_mat2 = sigmoid_kernel(X_selected2)\n",
    "rbf_mat2 = rbf_kernel(X_selected2)\n",
    "poly_mat2 = polynomial_kernel(X_selected2)\n",
    "\n",
    "\n",
    "# Calculate the kernel matrix of Volume\n",
    "sig_mat3 = sigmoid_kernel(X_selected3)\n",
    "rbf_mat3 = rbf_kernel(X_selected3)\n",
    "poly_mat3 = polynomial_kernel(X_selected3)\n",
    "\n",
    "\n",
    "kernel_mat1 = w11 * sig_mat1 + w12 * rbf_mat1 + w13 * poly_mat1\n",
    "kernel_mat2 = w21 * sig_mat2 + w22 * rbf_mat2 + w23 * poly_mat2\n",
    "kernel_mat3 = w31 * sig_mat3 + w32 * rbf_mat3 + w33 * poly_mat3\n",
    "\n",
    "\n",
    "best_score = 0\n",
    "best_w1 = 0\n",
    "best_w2 = 0\n",
    "best_w3 = 0\n",
    "\n",
    "for i in range(11):\n",
    "    for j in range(11):\n",
    "        w1 = i * 0.1\n",
    "        w2 = j * 0.1\n",
    "        w3 = 1 -w1-w2\n",
    "        if w1<-0.01 or w2<-0.01 or w3<-0.01:\n",
    "            break\n",
    "        kernel_mat = w1 * kernel_mat1 + w2 * kernel_mat2 + w3 * kernel_mat3\n",
    "        clf = SVC(kernel='precomputed', probability=True)\n",
    "        acc = cross_val_score(clf, kernel_mat, y, cv=5, scoring=\"accuracy\")\n",
    "        acc_avg = np.sum(acc) / 5\n",
    "        if acc_avg > best_score:\n",
    "            best_w1 = w1\n",
    "            best_w2 = w2\n",
    "            best_w3 = w3\n",
    "            best_score = acc_avg\n",
    "        \n",
    "print(\"w1:\"+str(best_w1), \"w2:\"+str(best_w2), \"w3:\"+str(best_w3))\n",
    "print(\"score:\"+str(best_score))"
   ]
  },
  {
   "cell_type": "code",
   "execution_count": 10,
   "id": "c7f3b8d5",
   "metadata": {},
   "outputs": [
    {
     "name": "stdout",
     "output_type": "stream",
     "text": [
      "[[ 42   4]\n",
      " [  0 100]]\n",
      "              precision    recall  f1-score   support\n",
      "\n",
      "           0       0.96      1.00      0.98       100\n",
      "           1       1.00      0.91      0.95        46\n",
      "\n",
      "    accuracy                           0.97       146\n",
      "   macro avg       0.98      0.96      0.97       146\n",
      "weighted avg       0.97      0.97      0.97       146\n",
      "\n",
      "auc: 1.0\n",
      "\n"
     ]
    }
   ],
   "source": [
    "kernel_mat = best_w1 * kernel_mat1 + best_w2 * kernel_mat2 + best_w3 * kernel_mat3\n",
    "y_pred = cross_val_predict(clf, kernel_mat, y, cv=5)\n",
    "auc = cross_val_score(clf, kernel_mat, y, cv=5, scoring=\"roc_auc\")\n",
    "print(confusion_matrix(y, y_pred,labels=[1,0]))\n",
    "print(classification_report(y, y_pred))\n",
    "auc_avg = (auc[0]+auc[1]+auc[2]+auc[3]+auc[4])/5\n",
    "print(\"auc: \"+str(auc_avg)+\"\\n\")"
   ]
  },
  {
   "cell_type": "markdown",
   "id": "84d9cffa",
   "metadata": {},
   "source": [
    "## 3. ElasticNet+MKSVM"
   ]
  },
  {
   "cell_type": "markdown",
   "id": "a5d6cb78",
   "metadata": {},
   "source": [
    "### 3.1 ElasticNet"
   ]
  },
  {
   "cell_type": "code",
   "execution_count": 11,
   "id": "b089e017",
   "metadata": {},
   "outputs": [],
   "source": [
    "\n",
    "w11, w12, w13 = 0, 0, 1\n",
    "w21, w22, w23 = 0, 0, 1\n",
    "w31, w32, w33 = 0, 0, 1\n"
   ]
  },
  {
   "cell_type": "code",
   "execution_count": 13,
   "id": "718045fa",
   "metadata": {},
   "outputs": [
    {
     "name": "stdout",
     "output_type": "stream",
     "text": [
      "alpha: 0.004035384325964323\n",
      "X_selected1: (146, 37)\n"
     ]
    }
   ],
   "source": [
    "# Feature 1：CorticalThickness\n",
    "model = ElasticNetCV(random_state=0)\n",
    "#,alphas=[1,0.1,0.01,0.005,0.001,0.0001]\n",
    "model.fit(X1, y)\n",
    "print(\"alpha: \" + str(model.alpha_))\n",
    "#print(els.coef_)\n",
    "\n",
    "selector = SelectFromModel(estimator = model, prefit = True)\n",
    "selector.get_support()\n",
    "X_selected1 = selector.transform(X1)\n",
    "print(\"X_selected1: \" + str(X_selected1.shape))\n"
   ]
  },
  {
   "cell_type": "code",
   "execution_count": 14,
   "id": "7ee54873",
   "metadata": {},
   "outputs": [
    {
     "name": "stdout",
     "output_type": "stream",
     "text": [
      "alpha: 0.0032668745975101172\n",
      "X_selected2: (146, 27)\n"
     ]
    }
   ],
   "source": [
    "# Feature 2: SurfaceArea\n",
    "model = ElasticNetCV(random_state=0)\n",
    "#,alphas=[1,0.1,0.01,0.005,0.001,0.0001]\n",
    "model.fit(X2, y)\n",
    "print(\"alpha: \" + str(model.alpha_))\n",
    "#print(els.coef_)\n",
    "\n",
    "selector = SelectFromModel(estimator = model, prefit = True)\n",
    "selector.get_support()\n",
    "X_selected2 = selector.transform(X2)\n",
    "print(\"X_selected2: \" + str(X_selected2.shape))\n"
   ]
  },
  {
   "cell_type": "code",
   "execution_count": 15,
   "id": "09f27264",
   "metadata": {},
   "outputs": [
    {
     "name": "stderr",
     "output_type": "stream",
     "text": [
      "/Users/zhengwentao/opt/anaconda3/lib/python3.9/site-packages/sklearn/linear_model/_coordinate_descent.py:633: ConvergenceWarning: Objective did not converge. You might want to increase the number of iterations. Duality gap: 0.002981570101596942, tolerance: 0.00244396551724138\n",
      "  model = cd_fast.enet_coordinate_descent_gram(\n",
      "/Users/zhengwentao/opt/anaconda3/lib/python3.9/site-packages/sklearn/linear_model/_coordinate_descent.py:633: ConvergenceWarning: Objective did not converge. You might want to increase the number of iterations. Duality gap: 0.0026356478782438852, tolerance: 0.00244396551724138\n",
      "  model = cd_fast.enet_coordinate_descent_gram(\n",
      "/Users/zhengwentao/opt/anaconda3/lib/python3.9/site-packages/sklearn/linear_model/_coordinate_descent.py:633: ConvergenceWarning: Objective did not converge. You might want to increase the number of iterations. Duality gap: 0.002682679124273113, tolerance: 0.00244396551724138\n",
      "  model = cd_fast.enet_coordinate_descent_gram(\n",
      "/Users/zhengwentao/opt/anaconda3/lib/python3.9/site-packages/sklearn/linear_model/_coordinate_descent.py:633: ConvergenceWarning: Objective did not converge. You might want to increase the number of iterations. Duality gap: 0.0027007598659192222, tolerance: 0.00244396551724138\n",
      "  model = cd_fast.enet_coordinate_descent_gram(\n",
      "/Users/zhengwentao/opt/anaconda3/lib/python3.9/site-packages/sklearn/linear_model/_coordinate_descent.py:633: ConvergenceWarning: Objective did not converge. You might want to increase the number of iterations. Duality gap: 0.0026362847985568205, tolerance: 0.00244396551724138\n",
      "  model = cd_fast.enet_coordinate_descent_gram(\n",
      "/Users/zhengwentao/opt/anaconda3/lib/python3.9/site-packages/sklearn/linear_model/_coordinate_descent.py:633: ConvergenceWarning: Objective did not converge. You might want to increase the number of iterations. Duality gap: 0.0030986124550880234, tolerance: 0.00244396551724138\n",
      "  model = cd_fast.enet_coordinate_descent_gram(\n",
      "/Users/zhengwentao/opt/anaconda3/lib/python3.9/site-packages/sklearn/linear_model/_coordinate_descent.py:633: ConvergenceWarning: Objective did not converge. You might want to increase the number of iterations. Duality gap: 0.0033847811586824594, tolerance: 0.00244396551724138\n",
      "  model = cd_fast.enet_coordinate_descent_gram(\n",
      "/Users/zhengwentao/opt/anaconda3/lib/python3.9/site-packages/sklearn/linear_model/_coordinate_descent.py:633: ConvergenceWarning: Objective did not converge. You might want to increase the number of iterations. Duality gap: 0.0032513794205217827, tolerance: 0.0024529914529914524\n",
      "  model = cd_fast.enet_coordinate_descent_gram(\n",
      "/Users/zhengwentao/opt/anaconda3/lib/python3.9/site-packages/sklearn/linear_model/_coordinate_descent.py:633: ConvergenceWarning: Objective did not converge. You might want to increase the number of iterations. Duality gap: 0.0035860133860352583, tolerance: 0.0024529914529914524\n",
      "  model = cd_fast.enet_coordinate_descent_gram(\n",
      "/Users/zhengwentao/opt/anaconda3/lib/python3.9/site-packages/sklearn/linear_model/_coordinate_descent.py:633: ConvergenceWarning: Objective did not converge. You might want to increase the number of iterations. Duality gap: 0.0033164349911736224, tolerance: 0.0024529914529914524\n",
      "  model = cd_fast.enet_coordinate_descent_gram(\n",
      "/Users/zhengwentao/opt/anaconda3/lib/python3.9/site-packages/sklearn/linear_model/_coordinate_descent.py:633: ConvergenceWarning: Objective did not converge. You might want to increase the number of iterations. Duality gap: 0.0029823236956625365, tolerance: 0.0024529914529914524\n",
      "  model = cd_fast.enet_coordinate_descent_gram(\n",
      "/Users/zhengwentao/opt/anaconda3/lib/python3.9/site-packages/sklearn/linear_model/_coordinate_descent.py:633: ConvergenceWarning: Objective did not converge. You might want to increase the number of iterations. Duality gap: 0.003738419572954177, tolerance: 0.0024529914529914524\n",
      "  model = cd_fast.enet_coordinate_descent_gram(\n",
      "/Users/zhengwentao/opt/anaconda3/lib/python3.9/site-packages/sklearn/linear_model/_coordinate_descent.py:633: ConvergenceWarning: Objective did not converge. You might want to increase the number of iterations. Duality gap: 0.004017153128796691, tolerance: 0.0024529914529914524\n",
      "  model = cd_fast.enet_coordinate_descent_gram(\n",
      "/Users/zhengwentao/opt/anaconda3/lib/python3.9/site-packages/sklearn/linear_model/_coordinate_descent.py:633: ConvergenceWarning: Objective did not converge. You might want to increase the number of iterations. Duality gap: 0.002656142755821378, tolerance: 0.0024529914529914524\n",
      "  model = cd_fast.enet_coordinate_descent_gram(\n",
      "/Users/zhengwentao/opt/anaconda3/lib/python3.9/site-packages/sklearn/linear_model/_coordinate_descent.py:633: ConvergenceWarning: Objective did not converge. You might want to increase the number of iterations. Duality gap: 0.003012516175036395, tolerance: 0.0024529914529914524\n",
      "  model = cd_fast.enet_coordinate_descent_gram(\n",
      "/Users/zhengwentao/opt/anaconda3/lib/python3.9/site-packages/sklearn/linear_model/_coordinate_descent.py:633: ConvergenceWarning: Objective did not converge. You might want to increase the number of iterations. Duality gap: 0.0028573371732026898, tolerance: 0.0024529914529914524\n",
      "  model = cd_fast.enet_coordinate_descent_gram(\n",
      "/Users/zhengwentao/opt/anaconda3/lib/python3.9/site-packages/sklearn/linear_model/_coordinate_descent.py:633: ConvergenceWarning: Objective did not converge. You might want to increase the number of iterations. Duality gap: 0.0030489904924588807, tolerance: 0.0024529914529914524\n",
      "  model = cd_fast.enet_coordinate_descent_gram(\n",
      "/Users/zhengwentao/opt/anaconda3/lib/python3.9/site-packages/sklearn/linear_model/_coordinate_descent.py:633: ConvergenceWarning: Objective did not converge. You might want to increase the number of iterations. Duality gap: 0.0034461708571273952, tolerance: 0.0024529914529914524\n",
      "  model = cd_fast.enet_coordinate_descent_gram(\n",
      "/Users/zhengwentao/opt/anaconda3/lib/python3.9/site-packages/sklearn/linear_model/_coordinate_descent.py:633: ConvergenceWarning: Objective did not converge. You might want to increase the number of iterations. Duality gap: 0.003458504427523934, tolerance: 0.0024529914529914524\n",
      "  model = cd_fast.enet_coordinate_descent_gram(\n",
      "/Users/zhengwentao/opt/anaconda3/lib/python3.9/site-packages/sklearn/linear_model/_coordinate_descent.py:633: ConvergenceWarning: Objective did not converge. You might want to increase the number of iterations. Duality gap: 0.0034511102103174096, tolerance: 0.0024529914529914524\n",
      "  model = cd_fast.enet_coordinate_descent_gram(\n",
      "/Users/zhengwentao/opt/anaconda3/lib/python3.9/site-packages/sklearn/linear_model/_coordinate_descent.py:633: ConvergenceWarning: Objective did not converge. You might want to increase the number of iterations. Duality gap: 0.002834693676456612, tolerance: 0.0024529914529914524\n",
      "  model = cd_fast.enet_coordinate_descent_gram(\n",
      "/Users/zhengwentao/opt/anaconda3/lib/python3.9/site-packages/sklearn/linear_model/_coordinate_descent.py:633: ConvergenceWarning: Objective did not converge. You might want to increase the number of iterations. Duality gap: 0.004531619130453746, tolerance: 0.0024529914529914524\n",
      "  model = cd_fast.enet_coordinate_descent_gram(\n",
      "/Users/zhengwentao/opt/anaconda3/lib/python3.9/site-packages/sklearn/linear_model/_coordinate_descent.py:633: ConvergenceWarning: Objective did not converge. You might want to increase the number of iterations. Duality gap: 0.006470947694029894, tolerance: 0.0024529914529914524\n",
      "  model = cd_fast.enet_coordinate_descent_gram(\n",
      "/Users/zhengwentao/opt/anaconda3/lib/python3.9/site-packages/sklearn/linear_model/_coordinate_descent.py:633: ConvergenceWarning: Objective did not converge. You might want to increase the number of iterations. Duality gap: 0.0038241668229358483, tolerance: 0.0024529914529914524\n",
      "  model = cd_fast.enet_coordinate_descent_gram(\n",
      "/Users/zhengwentao/opt/anaconda3/lib/python3.9/site-packages/sklearn/linear_model/_coordinate_descent.py:633: ConvergenceWarning: Objective did not converge. You might want to increase the number of iterations. Duality gap: 0.005432363211041791, tolerance: 0.0024529914529914524\n",
      "  model = cd_fast.enet_coordinate_descent_gram(\n"
     ]
    },
    {
     "name": "stdout",
     "output_type": "stream",
     "text": [
      "alpha: 0.007789132861778295\n",
      "X_selected3: (146, 24)\n"
     ]
    }
   ],
   "source": [
    "# Feature 3：Volume\n",
    "model = ElasticNetCV(random_state=0)\n",
    "#,alphas=[1,0.1,0.01,0.005,0.001,0.0001]\n",
    "model.fit(X3, y)\n",
    "print(\"alpha: \" + str(model.alpha_))\n",
    "#print(els.coef_)\n",
    "\n",
    "selector = SelectFromModel(estimator = model, prefit = True)\n",
    "selector.get_support()\n",
    "X_selected3 = selector.transform(X3)\n",
    "print(\"X_selected3: \" + str(X_selected3.shape))\n"
   ]
  },
  {
   "attachments": {},
   "cell_type": "markdown",
   "id": "7e3efed6",
   "metadata": {},
   "source": [
    "### 3.2 Multi-core SVM"
   ]
  },
  {
   "cell_type": "code",
   "execution_count": 16,
   "id": "02741a15",
   "metadata": {},
   "outputs": [
    {
     "name": "stdout",
     "output_type": "stream",
     "text": [
      "w1:0.30000000000000004 w2:0.4 w3:0.29999999999999993\n",
      "score:1.0\n"
     ]
    }
   ],
   "source": [
    "# Calculate the kernel matrix of CorticalThickness\n",
    "sig_mat1 = sigmoid_kernel(X_selected1)\n",
    "rbf_mat1 = rbf_kernel(X_selected1)\n",
    "poly_mat1 = polynomial_kernel(X_selected1)\n",
    "\n",
    "\n",
    "# Calculate the kernel matrix of SurfaceArea\n",
    "sig_mat2 = sigmoid_kernel(X_selected2)\n",
    "rbf_mat2 = rbf_kernel(X_selected2)\n",
    "poly_mat2 = polynomial_kernel(X_selected2)\n",
    "\n",
    "\n",
    "# Calculate the kernel matrix of Volume\n",
    "sig_mat3 = sigmoid_kernel(X_selected3)\n",
    "rbf_mat3 = rbf_kernel(X_selected3)\n",
    "poly_mat3 = polynomial_kernel(X_selected3)\n",
    "\n",
    "\n",
    "kernel_mat1 = w11 * sig_mat1 + w12 * rbf_mat1 + w13 * poly_mat1\n",
    "kernel_mat2 = w21 * sig_mat2 + w22 * rbf_mat2 + w23 * poly_mat2\n",
    "kernel_mat3 = w31 * sig_mat3 + w32 * rbf_mat3 + w33 * poly_mat3\n",
    "\n",
    "\n",
    "best_score = 0\n",
    "best_w1 = 0\n",
    "best_w2 = 0\n",
    "best_w3 = 0\n",
    "\n",
    "for i in range(11):\n",
    "    for j in range(11):\n",
    "        w1 = i * 0.1\n",
    "        w2 = j * 0.1\n",
    "        w3 = 1 -w1-w2\n",
    "        if w1<-0.01 or w2<-0.01 or w3<-0.01:\n",
    "            break\n",
    "        kernel_mat = w1 * kernel_mat1 + w2 * kernel_mat2 + w3 * kernel_mat3\n",
    "        clf = SVC(kernel='precomputed', probability=True)\n",
    "        acc = cross_val_score(clf, kernel_mat, y, cv=5, scoring=\"accuracy\")\n",
    "        acc_avg = (acc[0] + acc[1] + acc[2])/3\n",
    "        if acc_avg > best_score:\n",
    "            best_w1 = w1\n",
    "            best_w2 = w2\n",
    "            best_w3 = w3\n",
    "            best_score = acc_avg\n",
    "        \n",
    "print(\"w1:\"+str(best_w1), \"w2:\"+str(best_w2), \"w3:\"+str(best_w3))\n",
    "print(\"score:\"+str(best_score))"
   ]
  },
  {
   "cell_type": "code",
   "execution_count": 17,
   "id": "59260952",
   "metadata": {},
   "outputs": [
    {
     "name": "stdout",
     "output_type": "stream",
     "text": [
      "[[ 46   0]\n",
      " [  0 100]]\n",
      "              precision    recall  f1-score   support\n",
      "\n",
      "           0       1.00      1.00      1.00       100\n",
      "           1       1.00      1.00      1.00        46\n",
      "\n",
      "    accuracy                           1.00       146\n",
      "   macro avg       1.00      1.00      1.00       146\n",
      "weighted avg       1.00      1.00      1.00       146\n",
      "\n",
      "auc: 1.0\n",
      "\n"
     ]
    }
   ],
   "source": [
    "kernel_mat = best_w1 * kernel_mat1 + best_w2 * kernel_mat2 + best_w3 * kernel_mat3\n",
    "y_pred = cross_val_predict(clf, kernel_mat, y, cv=5)\n",
    "auc = cross_val_score(clf, kernel_mat, y, cv=5, scoring=\"roc_auc\")\n",
    "print(confusion_matrix(y, y_pred,labels=[1,0]))\n",
    "print(classification_report(y, y_pred))\n",
    "auc_avg = (auc[0]+auc[1]+auc[2]+auc[3]+auc[4])/5\n",
    "print(\"auc: \"+str(auc_avg)+\"\\n\")"
   ]
  },
  {
   "cell_type": "code",
   "execution_count": null,
   "id": "c565f46e",
   "metadata": {},
   "outputs": [],
   "source": []
  }
 ],
 "metadata": {
  "kernelspec": {
   "display_name": "base",
   "language": "python",
   "name": "python3"
  },
  "language_info": {
   "codemirror_mode": {
    "name": "ipython",
    "version": 3
   },
   "file_extension": ".py",
   "mimetype": "text/x-python",
   "name": "python",
   "nbconvert_exporter": "python",
   "pygments_lexer": "ipython3",
   "version": "3.9.13"
  },
  "vscode": {
   "interpreter": {
    "hash": "d35206c1d736b3ed2205db967d5af22e7728d97276bf618abc1666c9ff7db053"
   }
  }
 },
 "nbformat": 4,
 "nbformat_minor": 5
}
