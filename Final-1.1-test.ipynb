{
 "cells": [
  {
   "cell_type": "code",
   "execution_count": 1,
   "id": "00bd1c2c",
   "metadata": {},
   "outputs": [],
   "source": [
    "import numpy as np\n",
    "import csv\n",
    "import pandas as pd\n",
    "from sklearn.model_selection import train_test_split\n",
    "from sklearn.feature_selection import SelectFromModel\n",
    "from sklearn.linear_model import Lasso\n",
    "from sklearn.svm import SVC\n",
    "from sklearn.metrics import classification_report\n",
    "from sklearn.metrics import confusion_matrix\n",
    "from sklearn.metrics import roc_curve\n",
    "import matplotlib.pyplot as plt\n",
    "from sklearn.metrics import auc\n",
    "from sklearn import linear_model\n",
    "from sklearn.linear_model import ElasticNetCV\n",
    "from sklearn.model_selection import RandomizedSearchCV\n",
    "from scipy.stats import uniform\n",
    "from sklearn.metrics.pairwise import sigmoid_kernel, rbf_kernel, polynomial_kernel\n",
    "from sklearn import neighbors\n",
    "from sklearn import tree\n",
    "from sklearn.naive_bayes import GaussianNB\n",
    "from sklearn.ensemble import RandomForestClassifier\n",
    "from sklearn.model_selection import cross_val_score\n",
    "from sklearn.model_selection import cross_val_predict\n",
    "from sklearn import preprocessing\n",
    "from sklearn.model_selection import KFold\n"
   ]
  },
  {
   "attachments": {},
   "cell_type": "markdown",
   "id": "b3b68152",
   "metadata": {},
   "source": [
    "## 1. Data Preprocessing"
   ]
  },
  {
   "cell_type": "code",
   "execution_count": 2,
   "id": "a96a7552",
   "metadata": {},
   "outputs": [
    {
     "name": "stdout",
     "output_type": "stream",
     "text": [
      "X:(134, 136)\n",
      "y:(134,)\n"
     ]
    }
   ],
   "source": [
    "# Load features\n",
    "X = np.loadtxt(open(\"AD_MRI_DATA/1-CN_AD/1.1-MRI_CorticalThickness.csv\",\"rb\"),delimiter=\",\",skiprows=0)\n",
    "X = np.array(X, dtype=float)\n",
    "print(\"X:\" + str(X.shape))\n",
    "\n",
    "# Load labels\n",
    "with open('AD_MRI_DATA/1-CN_AD/1-Phenotype.csv','r') as csvfile:\n",
    "    reader = csv.reader(csvfile)\n",
    "    c1 = [row[1]for row in reader]\n",
    "    \n",
    "del c1[0]\n",
    "y = np.array(c1, dtype=int)\n",
    "print(\"y:\" + str(y.shape))\n"
   ]
  },
  {
   "cell_type": "code",
   "execution_count": 18,
   "id": "e950d40a",
   "metadata": {},
   "outputs": [
    {
     "name": "stdout",
     "output_type": "stream",
     "text": [
      "X_train: (107, 136)\n",
      "X_test: (27, 136)\n",
      "y_train: (107,)\n",
      "y_test: (27,)\n"
     ]
    }
   ],
   "source": [
    "# Transform features by scaling each feature to a given range.\n",
    "min_max_scaler = preprocessing.MinMaxScaler()\n",
    "X = min_max_scaler.fit_transform(X)\n",
    "\n",
    "# Split data into random train and test subsets.\n",
    "X_train, X_test, y_train, y_test = train_test_split(\n",
    "    X, y, test_size = 0.2, random_state=42\n",
    ")\n",
    "\n",
    "print(\"X_train: \" + str(X_train.shape))\n",
    "print(\"X_test: \" + str(X_test.shape))\n",
    "print(\"y_train: \" + str(y_train.shape))\n",
    "print(\"y_test: \" + str(y_test.shape))\n"
   ]
  },
  {
   "attachments": {},
   "cell_type": "markdown",
   "id": "bac7c9cc",
   "metadata": {},
   "source": [
    "## 2. Lasso feature extraction + classifiers"
   ]
  },
  {
   "cell_type": "markdown",
   "id": "ce69ee6b",
   "metadata": {},
   "source": [
    "### 2.1 Lasso"
   ]
  },
  {
   "cell_type": "code",
   "execution_count": 19,
   "id": "5913d083",
   "metadata": {},
   "outputs": [
    {
     "name": "stdout",
     "output_type": "stream",
     "text": [
      "alpha: 0.002004268249900883\n",
      "X_selected: (107, 59)\n",
      "X_test_sel: (27, 59)\n"
     ]
    }
   ],
   "source": [
    "model = linear_model.LassoCV()\n",
    "#alphas=[1,0.1,0.01,0.005,0.001,0.0001]\n",
    "model.fit(X, y)\n",
    "\n",
    "print(\"alpha: \" + str(model.alpha_))\n",
    "#print(lasso.coef_)\n",
    "\n",
    "selector = SelectFromModel(estimator = model, prefit = True)\n",
    "selector.get_support()\n",
    "X_selected = selector.transform(X_train)\n",
    "print(\"X_selected: \" + str(X_selected.shape))\n",
    "X_test_sel = selector.transform(X_test)\n",
    "print(\"X_test_sel: \" + str(X_test_sel.shape))"
   ]
  },
  {
   "attachments": {},
   "cell_type": "markdown",
   "id": "12f5fbd0",
   "metadata": {},
   "source": [
    "### 2.2 Classifiers"
   ]
  },
  {
   "cell_type": "code",
   "execution_count": 15,
   "id": "0b16acf2",
   "metadata": {},
   "outputs": [
    {
     "name": "stdout",
     "output_type": "stream",
     "text": [
      "SVM\n",
      "confusion matrix:\n",
      "[[10  0]\n",
      " [ 0 17]]\n",
      "              precision    recall  f1-score   support\n",
      "\n",
      "           0       1.00      1.00      1.00        17\n",
      "           1       1.00      1.00      1.00        10\n",
      "\n",
      "    accuracy                           1.00        27\n",
      "   macro avg       1.00      1.00      1.00        27\n",
      "weighted avg       1.00      1.00      1.00        27\n",
      "\n",
      "KNN\n",
      "confusion matrix:\n",
      "[[ 5  5]\n",
      " [ 0 17]]\n",
      "              precision    recall  f1-score   support\n",
      "\n",
      "           0       0.77      1.00      0.87        17\n",
      "           1       1.00      0.50      0.67        10\n",
      "\n",
      "    accuracy                           0.81        27\n",
      "   macro avg       0.89      0.75      0.77        27\n",
      "weighted avg       0.86      0.81      0.80        27\n",
      "\n",
      "Gaussian Naive Bayes\n",
      "confusion matrix:\n",
      "[[ 9  1]\n",
      " [ 3 14]]\n",
      "              precision    recall  f1-score   support\n",
      "\n",
      "           0       0.93      0.82      0.87        17\n",
      "           1       0.75      0.90      0.82        10\n",
      "\n",
      "    accuracy                           0.85        27\n",
      "   macro avg       0.84      0.86      0.85        27\n",
      "weighted avg       0.87      0.85      0.85        27\n",
      "\n",
      "Decision Tree\n",
      "confusion matrix:\n",
      "[[ 4  6]\n",
      " [ 2 15]]\n",
      "              precision    recall  f1-score   support\n",
      "\n",
      "           0       0.71      0.88      0.79        17\n",
      "           1       0.67      0.40      0.50        10\n",
      "\n",
      "    accuracy                           0.70        27\n",
      "   macro avg       0.69      0.64      0.64        27\n",
      "weighted avg       0.70      0.70      0.68        27\n",
      "\n",
      "Random Forest\n",
      "confusion matrix:\n",
      "[[ 6  4]\n",
      " [ 0 17]]\n",
      "              precision    recall  f1-score   support\n",
      "\n",
      "           0       0.81      1.00      0.89        17\n",
      "           1       1.00      0.60      0.75        10\n",
      "\n",
      "    accuracy                           0.85        27\n",
      "   macro avg       0.90      0.80      0.82        27\n",
      "weighted avg       0.88      0.85      0.84        27\n",
      "\n"
     ]
    }
   ],
   "source": [
    "for i in range(5):\n",
    "    # SVM\n",
    "    if i == 0:\n",
    "        clf = SVC(C = 1, random_state=42, probability=True)\n",
    "        print(\"SVM\")\n",
    "        \n",
    "    # KNN\n",
    "    elif i == 1:\n",
    "        clf = neighbors.KNeighborsClassifier(n_neighbors=2)\n",
    "        print(\"KNN\")\n",
    "        \n",
    "    # Gaussian Naive Bayes\n",
    "    elif i == 2:\n",
    "        clf = GaussianNB()\n",
    "        print(\"Gaussian Naive Bayes\")\n",
    "        \n",
    "    # Decision Tree\n",
    "    elif i == 3:\n",
    "        clf = tree.DecisionTreeClassifier()\n",
    "        print(\"Decision Tree\")\n",
    "        \n",
    "    # Random Forest\n",
    "    else:\n",
    "        clf = RandomForestClassifier()\n",
    "        print(\"Random Forest\")\n",
    "    \n",
    "    # Model Evaluation\n",
    "    clf.fit(X_selected, y_train)\n",
    "    y_pred = clf.predict(X_test_sel)\n",
    "    print('confusion matrix:')\n",
    "    print(confusion_matrix(y_test, y_pred,labels=[1,0]))\n",
    "    print(classification_report(y_test, y_pred))\n",
    "    \n",
    "    y_pred_prob = clf.predict_proba(X_test_sel)[:,1]\n",
    "    fpr, tpr, thresholds = roc_curve(y_test, y_pred_prob)\n",
    "    auc(fpr, tpr)\n"
   ]
  },
  {
   "attachments": {},
   "cell_type": "markdown",
   "id": "4aabd4e1",
   "metadata": {},
   "source": [
    "### 2.3 Multi-core SVM"
   ]
  },
  {
   "cell_type": "code",
   "execution_count": 8,
   "id": "f84fb7a3",
   "metadata": {},
   "outputs": [
    {
     "name": "stdout",
     "output_type": "stream",
     "text": [
      "w1:0.0 w2:0.0 w3:1.0\n",
      "score:0.9245014245014245\n"
     ]
    }
   ],
   "source": [
    "\n",
    "sig_mat = sigmoid_kernel(X_selected)\n",
    "rbf_mat = rbf_kernel(X_selected)\n",
    "poly_mat = polynomial_kernel(X_selected)\n",
    "\n",
    "best_score = 0\n",
    "best_w1 = 0\n",
    "best_w2 = 0\n",
    "best_w3 = 0\n",
    "\n",
    "for i in range(11):\n",
    "    for j in range(11):\n",
    "        w1 = i * 0.1\n",
    "        w2 = j * 0.1\n",
    "        w3 = 1 -w1-w2\n",
    "        if w1<-0.01 or w2<-0.01 or w3<-0.01:\n",
    "            break\n",
    "        train_kernel = w1 * sig_mat + w2 * rbf_mat + w3 * poly_mat\n",
    "        clf = SVC(kernel='precomputed', probability=True)\n",
    "        acc = cross_val_score(clf, train_kernel, y, cv=5, scoring=\"accuracy\")\n",
    "        acc_avg = np.sum(acc) / 5\n",
    "        if acc_avg > best_score:\n",
    "            best_w1 = w1\n",
    "            best_w2 = w2\n",
    "            best_w3 = w3\n",
    "            best_score = acc_avg\n",
    "        \n",
    "print(\"w1:\"+str(best_w1), \"w2:\"+str(best_w2), \"w3:\"+str(best_w3))\n",
    "print(\"score:\"+str(best_score))"
   ]
  },
  {
   "cell_type": "code",
   "execution_count": 9,
   "id": "12b7f1b9",
   "metadata": {},
   "outputs": [
    {
     "name": "stdout",
     "output_type": "stream",
     "text": [
      "[[37  9]\n",
      " [ 1 87]]\n",
      "              precision    recall  f1-score   support\n",
      "\n",
      "           0       0.91      0.99      0.95        88\n",
      "           1       0.97      0.80      0.88        46\n",
      "\n",
      "    accuracy                           0.93       134\n",
      "   macro avg       0.94      0.90      0.91       134\n",
      "weighted avg       0.93      0.93      0.92       134\n",
      "\n",
      "auc: 0.9277051561365287\n",
      "\n"
     ]
    }
   ],
   "source": [
    "train_kernel = best_w1 * sig_mat + best_w2 * rbf_mat + best_w3 * poly_mat\n",
    "y_pred = cross_val_predict(clf, train_kernel, y, cv=5)\n",
    "auc1 = cross_val_score(clf, train_kernel, y, cv=5, scoring=\"roc_auc\")\n",
    "print(confusion_matrix(y, y_pred,labels=[1,0]))\n",
    "print(classification_report(y, y_pred))\n",
    "acc_avg = np.sum(acc) / 5\n",
    "print(\"auc: \"+str(auc_avg)+\"\\n\")"
   ]
  },
  {
   "cell_type": "code",
   "execution_count": 17,
   "id": "5a84b333",
   "metadata": {},
   "outputs": [
    {
     "data": {
      "text/plain": [
       "(134, 134)"
      ]
     },
     "execution_count": 17,
     "metadata": {},
     "output_type": "execute_result"
    }
   ],
   "source": [
    "train_kernel.shape"
   ]
  },
  {
   "attachments": {},
   "cell_type": "markdown",
   "id": "22a4b90c",
   "metadata": {},
   "source": [
    "## 3. ElasticNet with Classifiers"
   ]
  },
  {
   "cell_type": "markdown",
   "id": "82265fbe",
   "metadata": {},
   "source": [
    "### 3.1 ElasticNet"
   ]
  },
  {
   "cell_type": "code",
   "execution_count": 9,
   "id": "4f27f785",
   "metadata": {},
   "outputs": [
    {
     "name": "stdout",
     "output_type": "stream",
     "text": [
      "alpha: 0.0018311152016526732\n",
      "X_selected: (134, 43)\n"
     ]
    }
   ],
   "source": [
    "model = ElasticNetCV(random_state=0)\n",
    "#,alphas=[1,0.1,0.01,0.005,0.001,0.0001]\n",
    "model.fit(X, y)\n",
    "\n",
    "print(\"alpha: \" + str(model.alpha_))\n",
    "#print(els.coef_)\n",
    "\n",
    "selector = SelectFromModel(estimator = model, prefit = True)\n",
    "selector.get_support()\n",
    "X_selected = selector.transform(X)\n",
    "print(\"X_selected: \" + str(X_selected.shape))"
   ]
  },
  {
   "attachments": {},
   "cell_type": "markdown",
   "id": "1f79f8ac",
   "metadata": {},
   "source": [
    "### 3.2 Classifiers"
   ]
  },
  {
   "cell_type": "code",
   "execution_count": 10,
   "id": "0990e313",
   "metadata": {},
   "outputs": [
    {
     "name": "stdout",
     "output_type": "stream",
     "text": [
      "SVM\n",
      "[[29 17]\n",
      " [ 4 84]]\n",
      "              precision    recall  f1-score   support\n",
      "\n",
      "           0       0.83      0.95      0.89        88\n",
      "           1       0.88      0.63      0.73        46\n",
      "\n",
      "    accuracy                           0.84       134\n",
      "   macro avg       0.86      0.79      0.81       134\n",
      "weighted avg       0.85      0.84      0.84       134\n",
      "\n",
      "auc: 0.9435729847494553\n",
      "\n",
      "KNN\n",
      "[[29 17]\n",
      " [ 2 86]]\n",
      "              precision    recall  f1-score   support\n",
      "\n",
      "           0       0.83      0.98      0.90        88\n",
      "           1       0.94      0.63      0.75        46\n",
      "\n",
      "    accuracy                           0.86       134\n",
      "   macro avg       0.89      0.80      0.83       134\n",
      "weighted avg       0.87      0.86      0.85       134\n",
      "\n",
      "auc: 0.9064996368917939\n",
      "\n",
      "高斯贝叶斯\n",
      "[[36 10]\n",
      " [ 8 80]]\n",
      "              precision    recall  f1-score   support\n",
      "\n",
      "           0       0.89      0.91      0.90        88\n",
      "           1       0.82      0.78      0.80        46\n",
      "\n",
      "    accuracy                           0.87       134\n",
      "   macro avg       0.85      0.85      0.85       134\n",
      "weighted avg       0.86      0.87      0.86       134\n",
      "\n",
      "auc: 0.9315177923021061\n",
      "\n",
      "决策树\n",
      "[[31 15]\n",
      " [20 68]]\n",
      "              precision    recall  f1-score   support\n",
      "\n",
      "           0       0.82      0.77      0.80        88\n",
      "           1       0.61      0.67      0.64        46\n",
      "\n",
      "    accuracy                           0.74       134\n",
      "   macro avg       0.71      0.72      0.72       134\n",
      "weighted avg       0.75      0.74      0.74       134\n",
      "\n",
      "auc: 0.7645098039215685\n",
      "\n",
      "随机森林\n",
      "[[31 15]\n",
      " [ 2 86]]\n",
      "              precision    recall  f1-score   support\n",
      "\n",
      "           0       0.85      0.98      0.91        88\n",
      "           1       0.94      0.67      0.78        46\n",
      "\n",
      "    accuracy                           0.87       134\n",
      "   macro avg       0.90      0.83      0.85       134\n",
      "weighted avg       0.88      0.87      0.87       134\n",
      "\n",
      "auc: 0.9516339869281045\n",
      "\n"
     ]
    }
   ],
   "source": [
    "for i in range(5):\n",
    "    # SVM\n",
    "    if i == 0:\n",
    "        clf = SVC(C=1, random_state=42, probability=True)\n",
    "        print(\"SVM\")\n",
    "        \n",
    "        \n",
    "    # KNN\n",
    "    elif i == 1:\n",
    "        clf = neighbors.KNeighborsClassifier(n_neighbors=2)\n",
    "        print(\"KNN\")\n",
    "        \n",
    "    # Naive Gaussian Bayes\n",
    "    elif i == 2:\n",
    "        clf = GaussianNB()\n",
    "        print(\"Naive Gaussian Bayes\")\n",
    "        \n",
    "    # Decision Tree\n",
    "    elif i == 3:\n",
    "        clf = tree.DecisionTreeClassifier()\n",
    "        print(\"Decision Tree\")\n",
    "        \n",
    "    # Random Forest\n",
    "    else:\n",
    "        clf = RandomForestClassifier()\n",
    "        print(\"Random Forest\")\n",
    "    \n",
    "    # Model Evaluation\n",
    "    y_pred = cross_val_predict(clf, X_selected, y, cv=5)\n",
    "    auc1 = cross_val_score(clf, X_selected, y, cv=5, scoring=\"roc_auc\")\n",
    "    print(confusion_matrix(y, y_pred,labels=[1,0]))\n",
    "    print(classification_report(y, y_pred))\n",
    "    auc_avg = (auc[0]+auc[1]+auc[2]+auc[3]+auc[4])/5\n",
    "    print(\"auc: \"+str(auc_avg)+\"\\n\")"
   ]
  },
  {
   "attachments": {},
   "cell_type": "markdown",
   "id": "b759ab23",
   "metadata": {},
   "source": [
    "### 3.3 Multi-core SVM"
   ]
  },
  {
   "cell_type": "code",
   "execution_count": 11,
   "id": "1fee9785",
   "metadata": {},
   "outputs": [
    {
     "name": "stdout",
     "output_type": "stream",
     "text": [
      "w1:0.0 w2:0.0 w3:1.0\n",
      "score:1.0\n"
     ]
    }
   ],
   "source": [
    "sig_mat = sigmoid_kernel(X_selected)\n",
    "rbf_mat = rbf_kernel(X_selected)\n",
    "poly_mat = polynomial_kernel(X_selected)\n",
    "\n",
    "best_score = 0\n",
    "best_w1 = 0\n",
    "best_w2 = 0\n",
    "best_w3 = 0\n",
    "\n",
    "for i in range(11):\n",
    "    for j in range(11):\n",
    "        w1 = i * 0.1\n",
    "        w2 = j * 0.1\n",
    "        w3 = 1 -w1-w2\n",
    "        if w1<-0.01 or w2<-0.01 or w3<-0.01:\n",
    "            break\n",
    "        train_kernel = w1 * sig_mat + w2 * rbf_mat + w3 * poly_mat\n",
    "        clf = SVC(kernel='precomputed', probability=True)\n",
    "        acc = cross_val_score(clf, train_kernel, y, cv=5, scoring=\"accuracy\")\n",
    "        acc_avg = np.sum(acc) / 5\n",
    "        if acc_avg > best_score:\n",
    "            best_w1 = w1\n",
    "            best_w2 = w2\n",
    "            best_w3 = w3\n",
    "            best_score = acc_avg\n",
    "        \n",
    "print(\"w1:\"+str(best_w1), \"w2:\"+str(best_w2), \"w3:\"+str(best_w3))\n",
    "print(\"score:\"+str(best_score))"
   ]
  },
  {
   "cell_type": "code",
   "execution_count": 12,
   "id": "56fa9b1d",
   "metadata": {},
   "outputs": [
    {
     "name": "stdout",
     "output_type": "stream",
     "text": [
      "[[44  2]\n",
      " [ 0 88]]\n",
      "              precision    recall  f1-score   support\n",
      "\n",
      "           0       0.98      1.00      0.99        88\n",
      "           1       1.00      0.96      0.98        46\n",
      "\n",
      "    accuracy                           0.99       134\n",
      "   macro avg       0.99      0.98      0.98       134\n",
      "weighted avg       0.99      0.99      0.98       134\n",
      "\n",
      "auc: 0.9986928104575163\n",
      "\n"
     ]
    }
   ],
   "source": [
    "train_kernel = best_w1 * sig_mat + best_w2 * rbf_mat + best_w3 * poly_mat\n",
    "y_pred = cross_val_predict(clf, train_kernel, y, cv=5)\n",
    "auc1 = cross_val_score(clf, train_kernel, y, cv=5, scoring=\"roc_auc\")\n",
    "print(confusion_matrix(y, y_pred,labels=[1,0]))\n",
    "print(classification_report(y, y_pred))\n",
    "acc_avg = np.sum(acc) / 5\n",
    "print(\"auc: \"+str(auc_avg)+\"\\n\")"
   ]
  },
  {
   "cell_type": "code",
   "execution_count": null,
   "id": "fceb1ef4",
   "metadata": {},
   "outputs": [],
   "source": []
  }
 ],
 "metadata": {
  "kernelspec": {
   "display_name": "base",
   "language": "python",
   "name": "python3"
  },
  "language_info": {
   "codemirror_mode": {
    "name": "ipython",
    "version": 3
   },
   "file_extension": ".py",
   "mimetype": "text/x-python",
   "name": "python",
   "nbconvert_exporter": "python",
   "pygments_lexer": "ipython3",
   "version": "3.9.13"
  },
  "vscode": {
   "interpreter": {
    "hash": "d35206c1d736b3ed2205db967d5af22e7728d97276bf618abc1666c9ff7db053"
   }
  }
 },
 "nbformat": 4,
 "nbformat_minor": 5
}
